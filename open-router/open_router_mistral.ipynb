{
 "cells": [
  {
   "cell_type": "markdown",
   "id": "1fe3eb4e",
   "metadata": {},
   "source": [
    "# Using Open Router\n",
    "\n",
    "Accessing a model for demonstration using Open Router. The file shows the model of `mistral-7b-instruct` with vision capability to describe an image."
   ]
  },
  {
   "cell_type": "code",
   "execution_count": 1,
   "id": "31c61684",
   "metadata": {},
   "outputs": [],
   "source": [
    "# configure api\n",
    "from dotenv import load_dotenv\n",
    "import os\n",
    "\n",
    "load_dotenv()\n",
    "open_router_api_key = os.getenv(\"open_router_api_key\")"
   ]
  },
  {
   "cell_type": "code",
   "execution_count": 3,
   "id": "448f64da",
   "metadata": {},
   "outputs": [
    {
     "name": "stdout",
     "output_type": "stream",
     "text": [
      " The question of the meaning of life is a profound and complex one, and the answer has been approached from many different perspectives throughout history. Some philosophical traditions, such as existentialism, suggest that life has no intrinsic meaning, and it is up to each individual to create their own purpose. Others, such as theism, posit that God gives life its purpose.\n",
      "\n",
      "In more contemporary culture, the question is often perceived as a search for personal fulfillment and happiness in one's life, or the pursuit of a meaningful and rewarding existence. Different people find meaning in different things, and this can include a variety of factors, such as love, personal growth, accomplishment, helping others, or creating art or beauty.\n",
      "\n",
      "Ultimately, the meaning of life may be a deeply personal and subjective matter. It's a question that each individual may need to answer for themselves based on their own values, beliefs, experiences, and aspirations.\n"
     ]
    }
   ],
   "source": [
    "from openai import OpenAI\n",
    "\n",
    "client = OpenAI(\n",
    "  base_url=\"https://openrouter.ai/api/v1\",\n",
    "  api_key=open_router_api_key,\n",
    ")\n",
    "\n",
    "completion = client.chat.completions.create(\n",
    "  extra_headers={\n",
    "    \"HTTP-Referer\": \"<YOUR_SITE_URL>\", # Optional. Site URL for rankings on openrouter.ai.\n",
    "    \"X-Title\": \"<YOUR_SITE_NAME>\", # Optional. Site title for rankings on openrouter.ai.\n",
    "  },\n",
    "  extra_body={},\n",
    "  model=\"mistralai/mistral-7b-instruct:free\",\n",
    "  messages=[\n",
    "    {\n",
    "      \"role\": \"user\",\n",
    "      \"content\": \"What is the meaning of life?\"\n",
    "    }\n",
    "  ]\n",
    ")\n",
    "print(completion.choices[0].message.content)"
   ]
  }
 ],
 "metadata": {
  "kernelspec": {
   "display_name": "Python 3",
   "language": "python",
   "name": "python3"
  },
  "language_info": {
   "codemirror_mode": {
    "name": "ipython",
    "version": 3
   },
   "file_extension": ".py",
   "mimetype": "text/x-python",
   "name": "python",
   "nbconvert_exporter": "python",
   "pygments_lexer": "ipython3",
   "version": "3.12.7"
  }
 },
 "nbformat": 4,
 "nbformat_minor": 5
}
