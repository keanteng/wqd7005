{
 "cells": [
  {
   "cell_type": "markdown",
   "id": "a2aaf53f",
   "metadata": {},
   "source": [
    "# Tutorial 9"
   ]
  },
  {
   "cell_type": "code",
   "execution_count": 1,
   "id": "7c44a2f6",
   "metadata": {},
   "outputs": [
    {
     "name": "stdout",
     "output_type": "stream",
     "text": [
      "Frequent itemsets (min support = 0.5):\n",
      "{'Bread'} support: 0.8\n",
      "{'Milk'} support: 0.6\n",
      "\n",
      "Strong association rules (min confidence = 0.6):\n"
     ]
    }
   ],
   "source": [
    "# Apriori algorithm step-by-step for the given transactions\n",
    "\n",
    "# Transactions\n",
    "transactions = [\n",
    "    {\"Milk\", \"Bread\", \"Butter\"},   # T1\n",
    "    {\"Milk\", \"Bread\"},             # T2\n",
    "    {\"Milk\", \"Coke\"},              # T3\n",
    "    {\"Bread\", \"Coke\"},             # T4\n",
    "    {\"Bread\", \"Butter\"}            # T5\n",
    "]\n",
    "\n",
    "from itertools import combinations\n",
    "\n",
    "def get_support(itemset, transactions):\n",
    "    count = sum(1 for t in transactions if itemset.issubset(t))\n",
    "    return count / len(transactions)\n",
    "\n",
    "# Step 1: Find frequent 1-itemsets\n",
    "items = set().union(*transactions)\n",
    "min_support = 0.5\n",
    "min_confidence = 0.6\n",
    "\n",
    "L1 = []\n",
    "support_data = {}\n",
    "for item in items:\n",
    "    sup = get_support({item}, transactions)\n",
    "    if sup >= min_support:\n",
    "        L1.append(frozenset([item]))\n",
    "        support_data[frozenset([item])] = sup\n",
    "\n",
    "# Step 2: Find frequent 2-itemsets\n",
    "L2 = []\n",
    "for combo in combinations(L1, 2):\n",
    "    itemset = combo[0] | combo[1]\n",
    "    sup = get_support(itemset, transactions)\n",
    "    if sup >= min_support:\n",
    "        L2.append(itemset)\n",
    "        support_data[itemset] = sup\n",
    "\n",
    "# Step 3: Find frequent 3-itemsets\n",
    "L3 = []\n",
    "for combo in combinations(L1, 3):\n",
    "    itemset = combo[0] | combo[1] | combo[2]\n",
    "    sup = get_support(itemset, transactions)\n",
    "    if sup >= min_support:\n",
    "        L3.append(itemset)\n",
    "        support_data[itemset] = sup\n",
    "\n",
    "# Collect all frequent itemsets\n",
    "frequent_itemsets = L1 + L2 + L3\n",
    "\n",
    "print(\"Frequent itemsets (min support = 0.5):\")\n",
    "for itemset in frequent_itemsets:\n",
    "    print(set(itemset), \"support:\", support_data[itemset])\n",
    "\n",
    "# Step 4: Generate strong association rules\n",
    "print(\"\\nStrong association rules (min confidence = 0.6):\")\n",
    "for itemset in frequent_itemsets:\n",
    "    if len(itemset) < 2:\n",
    "        continue\n",
    "    for i in range(1, len(itemset)):\n",
    "        for antecedent in combinations(itemset, i):\n",
    "            antecedent = frozenset(antecedent)\n",
    "            consequent = itemset - antecedent\n",
    "            if not consequent:\n",
    "                continue\n",
    "            conf = support_data[itemset] / support_data[antecedent]\n",
    "            if conf >= min_confidence:\n",
    "                print(f\"{set(antecedent)} => {set(consequent)} (confidence: {conf:.2f})\")"
   ]
  }
 ],
 "metadata": {
  "kernelspec": {
   "display_name": "Python 3",
   "language": "python",
   "name": "python3"
  },
  "language_info": {
   "codemirror_mode": {
    "name": "ipython",
    "version": 3
   },
   "file_extension": ".py",
   "mimetype": "text/x-python",
   "name": "python",
   "nbconvert_exporter": "python",
   "pygments_lexer": "ipython3",
   "version": "3.12.7"
  }
 },
 "nbformat": 4,
 "nbformat_minor": 5
}
