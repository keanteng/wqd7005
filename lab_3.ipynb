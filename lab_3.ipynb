{
 "cells": [
  {
   "cell_type": "markdown",
   "metadata": {},
   "source": [
    "## Lab 3\n",
    "\n",
    "Real time data processing using SLM. We want to show that SLM can be used to perform real-time data analytics as they are light-weight to deploy with low-latency decision making (as if an edge environment)"
   ]
  },
  {
   "cell_type": "code",
   "execution_count": null,
   "metadata": {},
   "outputs": [],
   "source": [
    "# import library\n",
    "from transformers import pipeline\n",
    "\n",
    "# load a lightwegit sentiment-analysis model\n",
    "classifier = pipeline(\"sentiment-analysis\", model=\"cardiffnlp/twitter-roberta-base-sentiment-latest\")"
   ]
  },
  {
   "cell_type": "code",
   "execution_count": null,
   "metadata": {},
   "outputs": [],
   "source": [
    "# simulate real time data stream\n",
    "import time\n",
    "\n",
    "data_stream = [ \n",
    "    \"The delivery was really fast and efficient!\", \n",
    "    \"I am not happy with the product quality.\", \n",
    "    \"Excellent customer service.\", \n",
    "    \"The website crashed multiple times.\", \n",
    "    \"Totally worth the price!\" \n",
    "]"
   ]
  },
  {
   "cell_type": "code",
   "execution_count": null,
   "metadata": {},
   "outputs": [],
   "source": [
    "# get the sentiment of a review in real time\n",
    "for review in data_stream:\n",
    "    # simulate a delay in data stream\n",
    "    time.sleep(1)\n",
    "    \n",
    "    # get the sentiment of the review\n",
    "    result = classifier(review)[0]\n",
    "    \n",
    "    # print the review and its sentiment\n",
    "    print(f\"Review: {review}\")\n",
    "    print(f\"Sentiment: {result['label']} (score: {result['score']:.2f})\\n\")"
   ]
  },
  {
   "cell_type": "code",
   "execution_count": null,
   "metadata": {},
   "outputs": [],
   "source": [
    "# aggregating sentiment in real time\n",
    "\n",
    "# set constant\n",
    "positive = 0\n",
    "negative = 0\n",
    "\n",
    "# get the sentiment of a review in real time\n",
    "for review in data_stream:\n",
    "    # simulate a delay in data stream\n",
    "    time.sleep(1)\n",
    "    \n",
    "    # get the sentiment of the review\n",
    "    result = classifier(review)[0]\n",
    "    \n",
    "    # aggregate the sentiment\n",
    "    if result['label'] == 'POSITIVE':\n",
    "        positive += 1\n",
    "    else:\n",
    "        negative += 1\n",
    "\n",
    "# print the aggregated sentiment\n",
    "print(f\"Total Positive Reviews: {positive}\")\n",
    "print(f\"Total Negative Reviews: {negative}\")"
   ]
  }
 ],
 "metadata": {
  "kernelspec": {
   "display_name": "Python 3",
   "language": "python",
   "name": "python3"
  },
  "language_info": {
   "name": "python",
   "version": "3.12.7"
  }
 },
 "nbformat": 4,
 "nbformat_minor": 2
}
