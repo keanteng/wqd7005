{
 "cells": [
  {
   "cell_type": "markdown",
   "metadata": {},
   "source": [
    "## Lab 3\n",
    "\n",
    "Real time data processing using SLM. We want to show that SLM can be used to perform real-time data analytics as they are light-weight to deploy with low-latency decision making (as if an edge environment)"
   ]
  },
  {
   "cell_type": "code",
   "execution_count": 3,
   "metadata": {},
   "outputs": [
    {
     "data": {
      "application/vnd.jupyter.widget-view+json": {
       "model_id": "79a6250ef7a64e2bb76e3195a5f6ec1c",
       "version_major": 2,
       "version_minor": 0
      },
      "text/plain": [
       "config.json:   0%|          | 0.00/929 [00:00<?, ?B/s]"
      ]
     },
     "metadata": {},
     "output_type": "display_data"
    },
    {
     "name": "stderr",
     "output_type": "stream",
     "text": [
      "c:\\Users\\Khor Kean Teng\\AppData\\Local\\Programs\\Python\\Python312\\Lib\\site-packages\\huggingface_hub\\file_download.py:142: UserWarning: `huggingface_hub` cache-system uses symlinks by default to efficiently store duplicated files but your machine does not support them in C:\\Users\\Khor Kean Teng\\.cache\\huggingface\\hub\\models--cardiffnlp--twitter-roberta-base-sentiment-latest. Caching files will still work but in a degraded version that might require more space on your disk. This warning can be disabled by setting the `HF_HUB_DISABLE_SYMLINKS_WARNING` environment variable. For more details, see https://huggingface.co/docs/huggingface_hub/how-to-cache#limitations.\n",
      "To support symlinks on Windows, you either need to activate Developer Mode or to run Python as an administrator. In order to activate developer mode, see this article: https://docs.microsoft.com/en-us/windows/apps/get-started/enable-your-device-for-development\n",
      "  warnings.warn(message)\n"
     ]
    },
    {
     "data": {
      "application/vnd.jupyter.widget-view+json": {
       "model_id": "e6fa3c16dffb4bdf81c1fb7949998bc4",
       "version_major": 2,
       "version_minor": 0
      },
      "text/plain": [
       "pytorch_model.bin:   0%|          | 0.00/501M [00:00<?, ?B/s]"
      ]
     },
     "metadata": {},
     "output_type": "display_data"
    },
    {
     "name": "stderr",
     "output_type": "stream",
     "text": [
      "Some weights of the model checkpoint at cardiffnlp/twitter-roberta-base-sentiment-latest were not used when initializing RobertaForSequenceClassification: ['roberta.pooler.dense.bias', 'roberta.pooler.dense.weight']\n",
      "- This IS expected if you are initializing RobertaForSequenceClassification from the checkpoint of a model trained on another task or with another architecture (e.g. initializing a BertForSequenceClassification model from a BertForPreTraining model).\n",
      "- This IS NOT expected if you are initializing RobertaForSequenceClassification from the checkpoint of a model that you expect to be exactly identical (initializing a BertForSequenceClassification model from a BertForSequenceClassification model).\n"
     ]
    },
    {
     "data": {
      "application/vnd.jupyter.widget-view+json": {
       "model_id": "7a231e69153345029617d2ae216b96b0",
       "version_major": 2,
       "version_minor": 0
      },
      "text/plain": [
       "vocab.json:   0%|          | 0.00/899k [00:00<?, ?B/s]"
      ]
     },
     "metadata": {},
     "output_type": "display_data"
    },
    {
     "data": {
      "application/vnd.jupyter.widget-view+json": {
       "model_id": "a0e4789d8cb549c58e86239d022cb30d",
       "version_major": 2,
       "version_minor": 0
      },
      "text/plain": [
       "merges.txt:   0%|          | 0.00/456k [00:00<?, ?B/s]"
      ]
     },
     "metadata": {},
     "output_type": "display_data"
    },
    {
     "data": {
      "application/vnd.jupyter.widget-view+json": {
       "model_id": "53d1bbeb782047789bf7b7c9e555e42a",
       "version_major": 2,
       "version_minor": 0
      },
      "text/plain": [
       "special_tokens_map.json:   0%|          | 0.00/239 [00:00<?, ?B/s]"
      ]
     },
     "metadata": {},
     "output_type": "display_data"
    },
    {
     "data": {
      "application/vnd.jupyter.widget-view+json": {
       "model_id": "ecfa8d15c1a842269613ddd910d65037",
       "version_major": 2,
       "version_minor": 0
      },
      "text/plain": [
       "model.safetensors:   0%|          | 0.00/501M [00:00<?, ?B/s]"
      ]
     },
     "metadata": {},
     "output_type": "display_data"
    },
    {
     "name": "stderr",
     "output_type": "stream",
     "text": [
      "Device set to use cpu\n"
     ]
    }
   ],
   "source": [
    "# import library\n",
    "from transformers import pipeline\n",
    "\n",
    "# load a lightwegit sentiment-analysis model\n",
    "classifier = pipeline(\"sentiment-analysis\", model=\"cardiffnlp/twitter-roberta-base-sentiment-latest\")"
   ]
  },
  {
   "cell_type": "code",
   "execution_count": 4,
   "metadata": {},
   "outputs": [],
   "source": [
    "# simulate real time data stream\n",
    "import time\n",
    "\n",
    "data_stream = [ \n",
    "    \"The delivery was really fast and efficient!\", \n",
    "    \"I am not happy with the product quality.\", \n",
    "    \"Excellent customer service.\", \n",
    "    \"The website crashed multiple times.\", \n",
    "    \"Totally worth the price!\" \n",
    "]"
   ]
  },
  {
   "cell_type": "code",
   "execution_count": 5,
   "metadata": {},
   "outputs": [
    {
     "name": "stdout",
     "output_type": "stream",
     "text": [
      "Review: The delivery was really fast and efficient!\n",
      "Sentiment: positive (score: 0.98)\n",
      "\n",
      "Review: I am not happy with the product quality.\n",
      "Sentiment: negative (score: 0.92)\n",
      "\n",
      "Review: Excellent customer service.\n",
      "Sentiment: positive (score: 0.95)\n",
      "\n",
      "Review: The website crashed multiple times.\n",
      "Sentiment: negative (score: 0.87)\n",
      "\n",
      "Review: Totally worth the price!\n",
      "Sentiment: positive (score: 0.97)\n",
      "\n"
     ]
    }
   ],
   "source": [
    "# get the sentiment of a review in real time\n",
    "for review in data_stream:\n",
    "    # simulate a delay in data stream\n",
    "    time.sleep(1)\n",
    "    \n",
    "    # get the sentiment of the review\n",
    "    result = classifier(review)[0]\n",
    "    \n",
    "    # print the review and its sentiment\n",
    "    print(f\"Review: {review}\")\n",
    "    print(f\"Sentiment: {result['label']} (score: {result['score']:.2f})\\n\")"
   ]
  },
  {
   "cell_type": "code",
   "execution_count": 6,
   "metadata": {},
   "outputs": [
    {
     "name": "stdout",
     "output_type": "stream",
     "text": [
      "Total Positive Reviews: 0\n",
      "Total Negative Reviews: 5\n"
     ]
    }
   ],
   "source": [
    "# aggregating sentiment in real time\n",
    "\n",
    "# set constant\n",
    "positive = 0\n",
    "negative = 0\n",
    "\n",
    "# get the sentiment of a review in real time\n",
    "for review in data_stream:\n",
    "    # simulate a delay in data stream\n",
    "    time.sleep(1)\n",
    "    \n",
    "    # get the sentiment of the review\n",
    "    result = classifier(review)[0]\n",
    "    \n",
    "    # aggregate the sentiment\n",
    "    if result['label'] == 'POSITIVE':\n",
    "        positive += 1\n",
    "    else:\n",
    "        negative += 1\n",
    "\n",
    "# print the aggregated sentiment\n",
    "print(f\"Total Positive Reviews: {positive}\")\n",
    "print(f\"Total Negative Reviews: {negative}\")"
   ]
  }
 ],
 "metadata": {
  "kernelspec": {
   "display_name": "Python 3",
   "language": "python",
   "name": "python3"
  },
  "language_info": {
   "codemirror_mode": {
    "name": "ipython",
    "version": 3
   },
   "file_extension": ".py",
   "mimetype": "text/x-python",
   "name": "python",
   "nbconvert_exporter": "python",
   "pygments_lexer": "ipython3",
   "version": "3.12.7"
  }
 },
 "nbformat": 4,
 "nbformat_minor": 2
}
