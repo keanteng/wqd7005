{
 "cells": [
  {
   "cell_type": "markdown",
   "id": "62e60c2b",
   "metadata": {},
   "source": [
    "# Lab 10: Customer Interaction Summarization and Sequence Generation using Gemma 3\"\n",
    "\n",
    "- Install the required libraries:\n",
    "```bash\n",
    "!pip install transformers accelerate bitsandbytes \n",
    "```"
   ]
  },
  {
   "cell_type": "markdown",
   "id": "9a912126",
   "metadata": {},
   "source": [
    "##  Load Gemma 3 Model"
   ]
  },
  {
   "cell_type": "code",
   "execution_count": 1,
   "id": "b02ba587",
   "metadata": {},
   "outputs": [],
   "source": [
    "# configure api\n",
    "from dotenv import load_dotenv\n",
    "import os\n",
    "\n",
    "load_dotenv()\n",
    "gemini_api_key = os.getenv(\"GEMINI_API_KEY\")"
   ]
  },
  {
   "cell_type": "code",
   "execution_count": 2,
   "id": "54035ab9",
   "metadata": {},
   "outputs": [],
   "source": [
    "from google import genai\n",
    "\n",
    "client = genai.Client(api_key=gemini_api_key)\n",
    "\n",
    "model = \"gemma-3-27b-it\""
   ]
  },
  {
   "cell_type": "markdown",
   "id": "0bbf81ee",
   "metadata": {},
   "source": [
    "## Input Data (Customer Interaction Sequences) "
   ]
  },
  {
   "cell_type": "code",
   "execution_count": 3,
   "id": "5f234b82",
   "metadata": {},
   "outputs": [],
   "source": [
    "sequences = [ \n",
    "\"Login -> View Balance -> Transfer Funds -> Logout\", \n",
    "\"Login -> View Balance -> Logout\", \n",
    "\"Login -> Transfer Funds -> View Balance -> Logout\" \n",
    "]"
   ]
  },
  {
   "cell_type": "markdown",
   "id": "aaf623cc",
   "metadata": {},
   "source": [
    "## Summarization via Instruction Prompting"
   ]
  },
  {
   "cell_type": "code",
   "execution_count": 7,
   "id": "9268ec9d",
   "metadata": {},
   "outputs": [
    {
     "name": "stdout",
     "output_type": "stream",
     "text": [
      "Prompt: <s>[INST] Summarize the following customer interaction sequence: Login -> View Balance -> Transfer Funds -> Logout [/INST]\n"
     ]
    },
    {
     "data": {
      "text/markdown": [
       "Response: This customer interaction sequence describes a typical online banking session. Here's a summary:\n",
       "\n",
       "**The customer securely accessed their account, checked their available funds, initiated a funds transfer, and then logged out for security.**\n",
       "\n",
       "Essentially, it's a **check balance and transfer money** workflow, bookended by secure login and logout procedures.\n",
       "\n",
       "\n",
       "\n"
      ],
      "text/plain": [
       "<IPython.core.display.Markdown object>"
      ]
     },
     "metadata": {},
     "output_type": "display_data"
    },
    {
     "name": "stdout",
     "output_type": "stream",
     "text": [
      "--------------------------------------------------\n",
      "Prompt: <s>[INST] Summarize the following customer interaction sequence: Login -> View Balance -> Logout [/INST]\n"
     ]
    },
    {
     "data": {
      "text/markdown": [
       "Response: The customer successfully logged in, checked their account balance, and then logged out. \n",
       "\n",
       "Essentially, it's a standard **account access and secure exit** sequence.\n"
      ],
      "text/plain": [
       "<IPython.core.display.Markdown object>"
      ]
     },
     "metadata": {},
     "output_type": "display_data"
    },
    {
     "name": "stdout",
     "output_type": "stream",
     "text": [
      "--------------------------------------------------\n",
      "Prompt: <s>[INST] Summarize the following customer interaction sequence: Login -> Transfer Funds -> View Balance -> Logout [/INST]\n"
     ]
    },
    {
     "data": {
      "text/markdown": [
       "Response: The customer successfully logged in, transferred funds, checked their account balance, and then logged out. \n",
       "\n",
       "Essentially, a standard financial transaction was completed: **fund transfer and balance confirmation, secured by login/logout.**\n"
      ],
      "text/plain": [
       "<IPython.core.display.Markdown object>"
      ]
     },
     "metadata": {},
     "output_type": "display_data"
    },
    {
     "name": "stdout",
     "output_type": "stream",
     "text": [
      "--------------------------------------------------\n"
     ]
    }
   ],
   "source": [
    "from IPython.display import display, Markdown\n",
    "\n",
    "for seq in sequences: \n",
    "    prompt = f\"<s>[INST] Summarize the following customer interaction sequence: {seq} [/INST]\" \n",
    "    response = client.models.generate_content(model=model, contents=prompt)\n",
    "    print(\"Prompt:\", prompt) \n",
    "    display(Markdown(f\"Response: {response.text}\")) \n",
    "    print(\"-\" * 50) "
   ]
  },
  {
   "cell_type": "markdown",
   "id": "9534a0ac",
   "metadata": {},
   "source": [
    "## Synthetic Sequence Generation via Prompt"
   ]
  },
  {
   "cell_type": "code",
   "execution_count": 8,
   "id": "39fa0112",
   "metadata": {},
   "outputs": [
    {
     "data": {
      "text/markdown": [
       "Generated Sequence: Okay, here's a realistic customer banking service usage sequence, covering a typical month for a moderately active customer. I'll break it down day-by-day (or grouped days) and include the services used, the likely channel (Mobile App, Website, ATM, Branch, Phone), and a brief reason.  I'll also add a \"Customer Sentiment\" indicator (Positive, Neutral, Slightly Frustrated) to reflect how the customer *might* feel during that interaction.  This is a fairly detailed scenario.\n",
       "\n",
       "**Customer Profile:**\n",
       "\n",
       "*   **Name:**  Sarah Miller\n",
       "*   **Age:** 32\n",
       "*   **Occupation:** Marketing Manager\n",
       "*   **Banking Needs:**  Checking account, Savings account, Credit Card, occasional Bill Pay, occasional small transfers.  Generally comfortable with digital banking.\n",
       "*   **Bank:** \"Apex Bank\" (fictional)\n",
       "\n",
       "\n",
       "\n",
       "---\n",
       "\n",
       "**Week 1:  Initial Checks & Routine Payments**\n",
       "\n",
       "*   **Monday (Day 1):**\n",
       "    *   **Service:** Check Account Balance\n",
       "    *   **Channel:** Mobile App (quickest way to start the day)\n",
       "    *   **Reason:**  Just checking to see if a direct deposit from work has landed.\n",
       "    *   **Customer Sentiment:** Neutral\n",
       "*   **Wednesday (Day 3):**\n",
       "    *   **Service:** View Recent Transactions (Checking & Credit Card)\n",
       "    *   **Channel:** Mobile App\n",
       "    *   **Reason:**  Reviewing spending to stay on budget.  Specifically looking for a recent online purchase.\n",
       "    *   **Customer Sentiment:** Neutral\n",
       "*   **Friday (Day 5):**\n",
       "    *   **Service:** Bill Pay - Electricity Bill\n",
       "    *   **Channel:** Mobile App (scheduled payment, but confirms it's still set up)\n",
       "    *   **Reason:**  Routine monthly bill payment.\n",
       "    *   **Customer Sentiment:** Positive (convenience)\n",
       "*   **Saturday (Day 6):**\n",
       "    *   **Service:** ATM Withdrawal\n",
       "    *   **Channel:** ATM\n",
       "    *   **Reason:**  Needs cash for weekend activities.\n",
       "    *   **Customer Sentiment:** Neutral\n",
       "\n",
       "**Week 2:  Transfer & Small Issue**\n",
       "\n",
       "*   **Monday (Day 8):**\n",
       "    *   **Service:** Transfer Funds (Savings to Checking)\n",
       "    *   **Channel:** Mobile App\n",
       "    *   **Reason:**  Covering an upcoming larger purchase.\n",
       "    *   **Customer Sentiment:** Positive\n",
       "*   **Wednesday (Day 10):**\n",
       "    *   **Service:**  Review Credit Card Statement\n",
       "    *   **Channel:** Website (prefers larger screen for statement review)\n",
       "    *   **Reason:**  Detailed review of credit card charges.\n",
       "    *   **Customer Sentiment:** Neutral\n",
       "*   **Friday (Day 12):**\n",
       "    *   **Service:**  Report a Suspicious Charge (small, unfamiliar transaction on credit card)\n",
       "    *   **Channel:** Phone (wants to speak to a person immediately)\n",
       "    *   **Reason:**  Potential fraud.\n",
       "    *   **Customer Sentiment:** Slightly Frustrated (concern about fraud, potential hassle)\n",
       "    *   **(Bank Action):**  Bank representative investigates, temporarily freezes card, issues a new card.\n",
       "\n",
       "**Week 3:  Card Replacement & Routine Activity**\n",
       "\n",
       "*   **Tuesday (Day 15):**\n",
       "    *   **Service:** Check Status of New Credit Card\n",
       "    *   **Channel:** Mobile App\n",
       "    *   **Reason:**  Wanting to know when the replacement card will arrive.\n",
       "    *   **Customer Sentiment:** Neutral\n",
       "*   **Thursday (Day 17):**\n",
       "    *   **Service:** Bill Pay - Internet Bill\n",
       "    *   **Channel:** Website (using a computer at work)\n",
       "    *   **Reason:**  Another routine monthly bill.\n",
       "    *   **Customer Sentiment:** Neutral\n",
       "*   **Saturday (Day 19):**\n",
       "    *   **Service:** ATM Deposit (check from a side hustle)\n",
       "    *   **Channel:** ATM\n",
       "    *   **Reason:**  Depositing a check.\n",
       "    *   **Customer Sentiment:** Neutral\n",
       "*   **Sunday (Day 20):**\n",
       "    *   **Service:** Check Account Balance\n",
       "    *   **Channel:** Mobile App\n",
       "    *   **Reason:**  Confirming the check deposit cleared.\n",
       "    *   **Customer Sentiment:** Positive (confirmation)\n",
       "\n",
       "**Week 4:  Savings Goal & Branch Visit**\n",
       "\n",
       "*   **Monday (Day 22):**\n",
       "    *   **Service:** Set up a Savings Goal (Vacation Fund)\n",
       "    *   **Channel:** Mobile App\n",
       "    *   **Reason:**  Starting to save for a vacation.  Utilizing the bank's goal-setting feature.\n",
       "    *   **Customer Sentiment:** Positive (motivated)\n",
       "*   **Wednesday (Day 24):**\n",
       "    *   **Service:**  Inquire about Mortgage Rates\n",
       "    *   **Channel:** Website\n",
       "    *   **Reason:**  Thinking about buying a house in the future.  Initial research.\n",
       "    *   **Customer Sentiment:** Neutral (exploratory)\n",
       "*   **Friday (Day 26):**\n",
       "    *   **Service:**  Cash a larger check (paycheck from a second job)\n",
       "    *   **Channel:** Branch\n",
       "    *   **Reason:**  Bank policy requires larger checks to be cashed in person.\n",
       "    *   **Customer Sentiment:** Slightly Frustrated (inconvenience of going to the branch, but understands the policy)\n",
       "*   **Saturday (Day 27):**\n",
       "    *   **Service:** View Transaction History (Savings Account)\n",
       "    *   **Channel:** Mobile App\n",
       "    *   **Reason:**  Checking progress on the vacation savings goal.\n",
       "    *   **Customer Sentiment:** Positive\n",
       "*   **Sunday (Day 28):**\n",
       "    *   **Service:** Check overall account summary\n",
       "    *   **Channel:** Mobile App\n",
       "    *   **Reason:** End of month check-in.\n",
       "    *   **Customer Sentiment:** Neutral\n",
       "\n",
       "\n",
       "\n",
       "---\n",
       "\n",
       "**Key Considerations & Variations:**\n",
       "\n",
       "*   **Frequency:** This is a moderate usage pattern. Some customers will be much more active, others less so.\n",
       "*   **Channel Preference:**  Sarah leans towards the mobile app for convenience, but uses other channels when necessary.\n",
       "*   **Unexpected Events:**  The suspicious charge is an example of an unexpected event.  Other possibilities include overdrafts, disputes, or needing to update personal information.\n",
       "*   **Proactive Bank Communication:**  The bank might send Sarah notifications about low balances, savings goal progress, or new product offers.  This would add to the sequence.\n",
       "*   **Personalization:** Banks are increasingly personalizing the customer experience.  The services offered and the way they are presented would be tailored to Sarah's profile and behavior.\n",
       "\n",
       "\n",
       "\n",
       "This detailed sequence provides a realistic view of how a customer might interact with a bank over a month.  It highlights the variety of services used and the different channels employed.  Let me know if you'd like me to modify this scenario or focus on a specific aspect of banking usage."
      ],
      "text/plain": [
       "<IPython.core.display.Markdown object>"
      ]
     },
     "metadata": {},
     "output_type": "display_data"
    }
   ],
   "source": [
    "prompt = \"<s>[INST] Generate a realistic customer banking service usage sequence. [/INST]\" \n",
    "response = client.models.generate_content(model=model, contents=prompt)\n",
    "display(Markdown(f\"Generated Sequence: {response.text}\"))"
   ]
  }
 ],
 "metadata": {
  "kernelspec": {
   "display_name": "Python 3",
   "language": "python",
   "name": "python3"
  },
  "language_info": {
   "codemirror_mode": {
    "name": "ipython",
    "version": 3
   },
   "file_extension": ".py",
   "mimetype": "text/x-python",
   "name": "python",
   "nbconvert_exporter": "python",
   "pygments_lexer": "ipython3",
   "version": "3.12.7"
  }
 },
 "nbformat": 4,
 "nbformat_minor": 5
}
