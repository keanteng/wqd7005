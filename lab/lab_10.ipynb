{
 "cells": [
  {
   "cell_type": "markdown",
   "id": "62e60c2b",
   "metadata": {},
   "source": [
    "# Lab 10: Customer Interaction Summarization and Sequence Generation using Gemma 3\"\n",
    "\n",
    "- Install the required libraries:\n",
    "```bash\n",
    "!pip install transformers accelerate bitsandbytes \n",
    "```"
   ]
  },
  {
   "cell_type": "markdown",
   "id": "9a912126",
   "metadata": {},
   "source": [
    "##  Load Gemma 3 Model\n",
    "```python"
   ]
  }
 ],
 "metadata": {
  "language_info": {
   "name": "python"
  }
 },
 "nbformat": 4,
 "nbformat_minor": 5
}
