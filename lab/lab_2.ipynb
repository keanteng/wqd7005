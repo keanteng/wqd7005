{
 "cells": [
  {
   "cell_type": "markdown",
   "id": "30c28be1",
   "metadata": {},
   "source": [
    "# Lab 2\n",
    "\n",
    "Generative Model for Data Augmentation\n",
    " \n",
    "1. Packages Used - sdv"
   ]
  },
  {
   "cell_type": "code",
   "execution_count": 4,
   "id": "f3af406e",
   "metadata": {},
   "outputs": [],
   "source": [
    "# package loading\n",
    "from sdv.single_table import CTGANSynthesizer\n",
    "from sdv.metadata import SingleTableMetadata\n",
    "import pandas as pd"
   ]
  },
  {
   "cell_type": "code",
   "execution_count": 5,
   "id": "c87daa0f",
   "metadata": {},
   "outputs": [],
   "source": [
    "# Load your dataset\n",
    "df = pd.read_csv('data/titanic.csv')\n",
    "df = df[['Pclass', 'Sex', 'Age', 'Fare', 'SibSp', 'Parch']].dropna()\n",
    "df['Sex'] = df['Sex'].astype(str)"
   ]
  },
  {
   "cell_type": "code",
   "execution_count": 6,
   "id": "40c3d18e",
   "metadata": {},
   "outputs": [],
   "source": [
    "# Define metadata\n",
    "metadata = SingleTableMetadata()\n",
    "metadata.detect_from_dataframe(df)"
   ]
  },
  {
   "cell_type": "code",
   "execution_count": 7,
   "id": "51dba9ca",
   "metadata": {},
   "outputs": [
    {
     "name": "stderr",
     "output_type": "stream",
     "text": [
      "c:\\Users\\Khor Kean Teng\\AppData\\Local\\Programs\\Python\\Python312\\Lib\\site-packages\\sdv\\single_table\\base.py:119: FutureWarning:\n",
      "\n",
      "The 'SingleTableMetadata' is deprecated. Please use the new 'Metadata' class for synthesizers.\n",
      "\n",
      "c:\\Users\\Khor Kean Teng\\AppData\\Local\\Programs\\Python\\Python312\\Lib\\site-packages\\sdv\\single_table\\base.py:104: UserWarning:\n",
      "\n",
      "We strongly recommend saving the metadata using 'save_to_json' for replicability in future SDV versions.\n",
      "\n"
     ]
    }
   ],
   "source": [
    "# Train CTGAN\n",
    "model = CTGANSynthesizer(metadata)\n",
    "model.fit(df)"
   ]
  },
  {
   "cell_type": "code",
   "execution_count": 8,
   "id": "90db84fe",
   "metadata": {},
   "outputs": [
    {
     "name": "stdout",
     "output_type": "stream",
     "text": [
      "   Pclass     Sex    Age      Fare  SibSp  Parch\n",
      "0       2    male  51.79   13.1736      0      2\n",
      "1       2  female  16.43  314.8434      0      0\n",
      "2       3  female  38.47   25.5694      1      0\n",
      "3       3  female  32.30   43.1904      0      1\n",
      "4       3    male  22.23   38.7986      3      1\n",
      "(1000, 6)\n"
     ]
    }
   ],
   "source": [
    "# Generate synthetic data\n",
    "synthetic_data = model.sample(1000)\n",
    "print(synthetic_data.head())\n",
    "\n",
    "# show data shape\n",
    "print(synthetic_data.shape)"
   ]
  }
 ],
 "metadata": {
  "kernelspec": {
   "display_name": "Python 3",
   "language": "python",
   "name": "python3"
  },
  "language_info": {
   "codemirror_mode": {
    "name": "ipython",
    "version": 3
   },
   "file_extension": ".py",
   "mimetype": "text/x-python",
   "name": "python",
   "nbconvert_exporter": "python",
   "pygments_lexer": "ipython3",
   "version": "3.12.7"
  }
 },
 "nbformat": 4,
 "nbformat_minor": 5
}
