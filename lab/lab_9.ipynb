{
 "cells": [
  {
   "cell_type": "markdown",
   "id": "8621c565",
   "metadata": {},
   "source": [
    "# Lab 9: SLM-Powered Interpretation of Apriori-Based Association Rules \n",
    "\n",
    "```bash\n",
    "# install required packages\n",
    "!pip install mlxtend transformers\n",
    "```"
   ]
  },
  {
   "cell_type": "markdown",
   "id": "001d19fb",
   "metadata": {},
   "source": [
    "## Step 1: Import and Prepare Transaction Data "
   ]
  },
  {
   "cell_type": "code",
   "execution_count": 2,
   "id": "9caa0f69",
   "metadata": {},
   "outputs": [],
   "source": [
    "# import libraries\n",
    "import pandas as pd \n",
    "from mlxtend.preprocessing import TransactionEncoder "
   ]
  },
  {
   "cell_type": "code",
   "execution_count": 3,
   "id": "1a1d1395",
   "metadata": {},
   "outputs": [],
   "source": [
    "dataset = [ \n",
    "['Milk', 'Bread', 'Butter'], \n",
    "['Milk', 'Bread'], \n",
    "['Milk', 'Coke'], \n",
    "['Bread', 'Coke'], \n",
    "['Bread', 'Butter'] \n",
    "] \n",
    "\n",
    "te = TransactionEncoder() \n",
    "te_data = te.fit(dataset).transform(dataset) \n",
    "df = pd.DataFrame(te_data, columns=te.columns_) "
   ]
  },
  {
   "cell_type": "markdown",
   "id": "4e7dd09b",
   "metadata": {},
   "source": [
    "## Step 2: Apply Apriori Algorithm with Lower Thresholds"
   ]
  },
  {
   "cell_type": "code",
   "execution_count": 4,
   "id": "42c91186",
   "metadata": {},
   "outputs": [
    {
     "name": "stdout",
     "output_type": "stream",
     "text": [
      " Frequent Itemsets:\n",
      "    support               itemsets\n",
      "0      0.8                (Bread)\n",
      "1      0.4               (Butter)\n",
      "2      0.4                 (Coke)\n",
      "3      0.6                 (Milk)\n",
      "4      0.4        (Bread, Butter)\n",
      "5      0.2          (Coke, Bread)\n",
      "6      0.4          (Bread, Milk)\n",
      "7      0.2         (Milk, Butter)\n",
      "8      0.2           (Coke, Milk)\n",
      "9      0.2  (Milk, Bread, Butter)\n",
      "\n",
      " Association Rules:\n",
      "         antecedents      consequents  antecedent support  consequent support  \\\n",
      "0           (Bread)         (Butter)                 0.8                 0.4   \n",
      "1          (Butter)          (Bread)                 0.4                 0.8   \n",
      "2            (Coke)          (Bread)                 0.4                 0.8   \n",
      "3           (Bread)           (Milk)                 0.8                 0.6   \n",
      "4            (Milk)          (Bread)                 0.6                 0.8   \n",
      "5            (Milk)         (Butter)                 0.6                 0.4   \n",
      "6          (Butter)           (Milk)                 0.4                 0.6   \n",
      "7            (Coke)           (Milk)                 0.4                 0.6   \n",
      "8            (Milk)           (Coke)                 0.6                 0.4   \n",
      "9     (Bread, Milk)         (Butter)                 0.4                 0.4   \n",
      "10   (Butter, Milk)          (Bread)                 0.2                 0.8   \n",
      "11  (Bread, Butter)           (Milk)                 0.4                 0.6   \n",
      "12           (Milk)  (Bread, Butter)                 0.6                 0.4   \n",
      "13         (Butter)    (Bread, Milk)                 0.4                 0.4   \n",
      "\n",
      "    support  confidence      lift  representativity  leverage  conviction  \\\n",
      "0       0.4    0.500000  1.250000               1.0      0.08         1.2   \n",
      "1       0.4    1.000000  1.250000               1.0      0.08         inf   \n",
      "2       0.2    0.500000  0.625000               1.0     -0.12         0.4   \n",
      "3       0.4    0.500000  0.833333               1.0     -0.08         0.8   \n",
      "4       0.4    0.666667  0.833333               1.0     -0.08         0.6   \n",
      "5       0.2    0.333333  0.833333               1.0     -0.04         0.9   \n",
      "6       0.2    0.500000  0.833333               1.0     -0.04         0.8   \n",
      "7       0.2    0.500000  0.833333               1.0     -0.04         0.8   \n",
      "8       0.2    0.333333  0.833333               1.0     -0.04         0.9   \n",
      "9       0.2    0.500000  1.250000               1.0      0.04         1.2   \n",
      "10      0.2    1.000000  1.250000               1.0      0.04         inf   \n",
      "11      0.2    0.500000  0.833333               1.0     -0.04         0.8   \n",
      "12      0.2    0.333333  0.833333               1.0     -0.04         0.9   \n",
      "13      0.2    0.500000  1.250000               1.0      0.04         1.2   \n",
      "\n",
      "    zhangs_metric   jaccard  certainty  kulczynski  \n",
      "0        1.000000  0.500000   0.166667    0.750000  \n",
      "1        0.333333  0.500000   1.000000    0.750000  \n",
      "2       -0.500000  0.200000  -1.500000    0.375000  \n",
      "3       -0.500000  0.400000  -0.250000    0.583333  \n",
      "4       -0.333333  0.400000  -0.666667    0.583333  \n",
      "5       -0.333333  0.250000  -0.111111    0.416667  \n",
      "6       -0.250000  0.250000  -0.250000    0.416667  \n",
      "7       -0.250000  0.250000  -0.250000    0.416667  \n",
      "8       -0.333333  0.250000  -0.111111    0.416667  \n",
      "9        0.333333  0.333333   0.166667    0.500000  \n",
      "10       0.250000  0.250000   1.000000    0.625000  \n",
      "11      -0.250000  0.250000  -0.250000    0.416667  \n",
      "12      -0.333333  0.250000  -0.111111    0.416667  \n",
      "13       0.333333  0.333333   0.166667    0.500000  \n"
     ]
    }
   ],
   "source": [
    "from mlxtend.frequent_patterns import apriori, association_rules \n",
    "\n",
    "frequent_itemsets = apriori(df, min_support=0.2, use_colnames=True) \n",
    "rules = association_rules(frequent_itemsets, metric=\"confidence\", \n",
    "min_threshold=0.3) \n",
    "\n",
    "print(\" Frequent Itemsets:\\n\", frequent_itemsets) \n",
    "print(\"\\n Association Rules:\\n\", rules)"
   ]
  },
  {
   "cell_type": "markdown",
   "id": "3ff2273d",
   "metadata": {},
   "source": [
    "## Step 3: Use SLM (Small Language Model) to Explain Rules \n",
    "\n",
    "Using Gemma-3 by Google"
   ]
  },
  {
   "cell_type": "code",
   "execution_count": 5,
   "id": "9ae76ae7",
   "metadata": {},
   "outputs": [],
   "source": [
    "# configure api\n",
    "from dotenv import load_dotenv\n",
    "import os\n",
    "\n",
    "load_dotenv()\n",
    "gemini_api_key = os.getenv(\"GEMINI_API_KEY\")"
   ]
  },
  {
   "cell_type": "code",
   "execution_count": 6,
   "id": "068eb610",
   "metadata": {},
   "outputs": [],
   "source": [
    "from google import genai\n",
    "\n",
    "client = genai.Client(api_key=gemini_api_key)\n",
    "\n",
    "model = \"gemma-3-27b-it\""
   ]
  },
  {
   "cell_type": "markdown",
   "id": "460253f4",
   "metadata": {},
   "source": [
    "## Step 4: Generate Explanations"
   ]
  },
  {
   "cell_type": "code",
   "execution_count": null,
   "id": "36a03aa2",
   "metadata": {},
   "outputs": [
    {
     "name": "stdout",
     "output_type": "stream",
     "text": [
      "\n",
      " Rule: If someone buys Bread, they are likely to buy Butter.\n"
     ]
    },
    {
     "ename": "TypeError",
     "evalue": "'GenerateContentResponse' object is not subscriptable",
     "output_type": "error",
     "traceback": [
      "\u001b[1;31m---------------------------------------------------------------------------\u001b[0m",
      "\u001b[1;31mTypeError\u001b[0m                                 Traceback (most recent call last)",
      "Cell \u001b[1;32mIn[7], line 9\u001b[0m\n\u001b[0;32m      7\u001b[0m         \u001b[38;5;28mprint\u001b[39m(\u001b[38;5;124m\"\u001b[39m\u001b[38;5;130;01m\\n\u001b[39;00m\u001b[38;5;124m Rule:\u001b[39m\u001b[38;5;124m\"\u001b[39m, rule) \n\u001b[0;32m      8\u001b[0m         explanation \u001b[38;5;241m=\u001b[39m client\u001b[38;5;241m.\u001b[39mmodels\u001b[38;5;241m.\u001b[39mgenerate_content(model \u001b[38;5;241m=\u001b[39m model, contents \u001b[38;5;241m=\u001b[39m \u001b[38;5;124mf\u001b[39m\u001b[38;5;124m\"\u001b[39m\u001b[38;5;124mExplain this rule: \u001b[39m\u001b[38;5;132;01m{\u001b[39;00mrule\u001b[38;5;132;01m}\u001b[39;00m\u001b[38;5;124m\"\u001b[39m) \n\u001b[1;32m----> 9\u001b[0m         \u001b[38;5;28mprint\u001b[39m(\u001b[38;5;124m\"\u001b[39m\u001b[38;5;124mSLM Explanation:\u001b[39m\u001b[38;5;124m\"\u001b[39m, \u001b[43mexplanation\u001b[49m\u001b[43m[\u001b[49m\u001b[38;5;241;43m0\u001b[39;49m\u001b[43m]\u001b[49m[\u001b[38;5;124m'\u001b[39m\u001b[38;5;124mgenerated_text\u001b[39m\u001b[38;5;124m'\u001b[39m]) \n\u001b[0;32m     10\u001b[0m \u001b[38;5;28;01melse\u001b[39;00m: \n\u001b[0;32m     11\u001b[0m         \u001b[38;5;28mprint\u001b[39m(\u001b[38;5;124m\"\u001b[39m\u001b[38;5;130;01m\\n\u001b[39;00m\u001b[38;5;124m No association rules found. Try further lowering support/confidence thresholds or check your data.\u001b[39m\u001b[38;5;124m\"\u001b[39m)\n",
      "\u001b[1;31mTypeError\u001b[0m: 'GenerateContentResponse' object is not subscriptable"
     ]
    }
   ],
   "source": [
    "if not rules.empty: \n",
    "    for index, row in rules.iterrows(): \n",
    "        antecedent = ', '.join(list(row['antecedents'])) \n",
    "        consequent = ', '.join(list(row['consequents'])) \n",
    "        rule = f\"If someone buys {antecedent}, they are likely to buy {consequent}.\" \n",
    " \n",
    "        print(\"\\n Rule:\", rule) \n",
    "        explanation = client.models.generate_content(model = model, contents = f\"Explain this rule: {rule}\") \n",
    "        print(\"SLM Explanation:\", explanation.text) \n",
    "else: \n",
    "        print(\"\\n No association rules found. Try further lowering support/confidence thresholds or check your data.\")"
   ]
  }
 ],
 "metadata": {
  "kernelspec": {
   "display_name": "Python 3",
   "language": "python",
   "name": "python3"
  },
  "language_info": {
   "codemirror_mode": {
    "name": "ipython",
    "version": 3
   },
   "file_extension": ".py",
   "mimetype": "text/x-python",
   "name": "python",
   "nbconvert_exporter": "python",
   "pygments_lexer": "ipython3",
   "version": "3.12.7"
  }
 },
 "nbformat": 4,
 "nbformat_minor": 5
}
