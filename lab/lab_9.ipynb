{
 "cells": [
  {
   "cell_type": "markdown",
   "id": "8621c565",
   "metadata": {},
   "source": [
    "# Lab 9: SLM-Powered Interpretation of Apriori-Based Association Rules \n",
    "\n",
    "```bash\n",
    "# install required packages\n",
    "!pip install mlxtend transformers\n",
    "```"
   ]
  },
  {
   "cell_type": "markdown",
   "id": "001d19fb",
   "metadata": {},
   "source": [
    "## Step 1: Import and Prepare Transaction Data "
   ]
  },
  {
   "cell_type": "code",
   "execution_count": 9,
   "id": "9caa0f69",
   "metadata": {},
   "outputs": [],
   "source": [
    "# import libraries\n",
    "import pandas as pd \n",
    "from mlxtend.preprocessing import TransactionEncoder "
   ]
  },
  {
   "cell_type": "code",
   "execution_count": 10,
   "id": "1a1d1395",
   "metadata": {},
   "outputs": [],
   "source": [
    "dataset = [ \n",
    "['Milk', 'Bread', 'Butter'], \n",
    "['Milk', 'Bread'], \n",
    "['Milk', 'Coke'], \n",
    "['Bread', 'Coke'], \n",
    "['Bread', 'Butter'] \n",
    "] \n",
    "\n",
    "te = TransactionEncoder() \n",
    "te_data = te.fit(dataset).transform(dataset) \n",
    "df = pd.DataFrame(te_data, columns=te.columns_) "
   ]
  },
  {
   "cell_type": "markdown",
   "id": "4e7dd09b",
   "metadata": {},
   "source": [
    "## Step 2: Apply Apriori Algorithm with Lower Thresholds"
   ]
  },
  {
   "cell_type": "code",
   "execution_count": 11,
   "id": "42c91186",
   "metadata": {},
   "outputs": [
    {
     "name": "stdout",
     "output_type": "stream",
     "text": [
      " Frequent Itemsets:\n",
      "    support               itemsets\n",
      "0      0.8                (Bread)\n",
      "1      0.4               (Butter)\n",
      "2      0.4                 (Coke)\n",
      "3      0.6                 (Milk)\n",
      "4      0.4        (Bread, Butter)\n",
      "5      0.2          (Coke, Bread)\n",
      "6      0.4          (Bread, Milk)\n",
      "7      0.2         (Milk, Butter)\n",
      "8      0.2           (Coke, Milk)\n",
      "9      0.2  (Milk, Bread, Butter)\n",
      "\n",
      " Association Rules:\n",
      "         antecedents      consequents  antecedent support  consequent support  \\\n",
      "0           (Bread)         (Butter)                 0.8                 0.4   \n",
      "1          (Butter)          (Bread)                 0.4                 0.8   \n",
      "2            (Coke)          (Bread)                 0.4                 0.8   \n",
      "3           (Bread)           (Milk)                 0.8                 0.6   \n",
      "4            (Milk)          (Bread)                 0.6                 0.8   \n",
      "5            (Milk)         (Butter)                 0.6                 0.4   \n",
      "6          (Butter)           (Milk)                 0.4                 0.6   \n",
      "7            (Coke)           (Milk)                 0.4                 0.6   \n",
      "8            (Milk)           (Coke)                 0.6                 0.4   \n",
      "9     (Bread, Milk)         (Butter)                 0.4                 0.4   \n",
      "10   (Butter, Milk)          (Bread)                 0.2                 0.8   \n",
      "11  (Bread, Butter)           (Milk)                 0.4                 0.6   \n",
      "12           (Milk)  (Bread, Butter)                 0.6                 0.4   \n",
      "13         (Butter)    (Bread, Milk)                 0.4                 0.4   \n",
      "\n",
      "    support  confidence      lift  representativity  leverage  conviction  \\\n",
      "0       0.4    0.500000  1.250000               1.0      0.08         1.2   \n",
      "1       0.4    1.000000  1.250000               1.0      0.08         inf   \n",
      "2       0.2    0.500000  0.625000               1.0     -0.12         0.4   \n",
      "3       0.4    0.500000  0.833333               1.0     -0.08         0.8   \n",
      "4       0.4    0.666667  0.833333               1.0     -0.08         0.6   \n",
      "5       0.2    0.333333  0.833333               1.0     -0.04         0.9   \n",
      "6       0.2    0.500000  0.833333               1.0     -0.04         0.8   \n",
      "7       0.2    0.500000  0.833333               1.0     -0.04         0.8   \n",
      "8       0.2    0.333333  0.833333               1.0     -0.04         0.9   \n",
      "9       0.2    0.500000  1.250000               1.0      0.04         1.2   \n",
      "10      0.2    1.000000  1.250000               1.0      0.04         inf   \n",
      "11      0.2    0.500000  0.833333               1.0     -0.04         0.8   \n",
      "12      0.2    0.333333  0.833333               1.0     -0.04         0.9   \n",
      "13      0.2    0.500000  1.250000               1.0      0.04         1.2   \n",
      "\n",
      "    zhangs_metric   jaccard  certainty  kulczynski  \n",
      "0        1.000000  0.500000   0.166667    0.750000  \n",
      "1        0.333333  0.500000   1.000000    0.750000  \n",
      "2       -0.500000  0.200000  -1.500000    0.375000  \n",
      "3       -0.500000  0.400000  -0.250000    0.583333  \n",
      "4       -0.333333  0.400000  -0.666667    0.583333  \n",
      "5       -0.333333  0.250000  -0.111111    0.416667  \n",
      "6       -0.250000  0.250000  -0.250000    0.416667  \n",
      "7       -0.250000  0.250000  -0.250000    0.416667  \n",
      "8       -0.333333  0.250000  -0.111111    0.416667  \n",
      "9        0.333333  0.333333   0.166667    0.500000  \n",
      "10       0.250000  0.250000   1.000000    0.625000  \n",
      "11      -0.250000  0.250000  -0.250000    0.416667  \n",
      "12      -0.333333  0.250000  -0.111111    0.416667  \n",
      "13       0.333333  0.333333   0.166667    0.500000  \n"
     ]
    }
   ],
   "source": [
    "from mlxtend.frequent_patterns import apriori, association_rules \n",
    "\n",
    "frequent_itemsets = apriori(df, min_support=0.2, use_colnames=True) \n",
    "rules = association_rules(frequent_itemsets, metric=\"confidence\", \n",
    "min_threshold=0.3) \n",
    "\n",
    "print(\" Frequent Itemsets:\\n\", frequent_itemsets) \n",
    "print(\"\\n Association Rules:\\n\", rules)"
   ]
  },
  {
   "cell_type": "markdown",
   "id": "3ff2273d",
   "metadata": {},
   "source": [
    "## Step 3: Use SLM (Small Language Model) to Explain Rules \n",
    "\n",
    "Using Gemma-3 by Google"
   ]
  },
  {
   "cell_type": "code",
   "execution_count": 12,
   "id": "9ae76ae7",
   "metadata": {},
   "outputs": [],
   "source": [
    "# configure api\n",
    "from dotenv import load_dotenv\n",
    "import os\n",
    "\n",
    "load_dotenv()\n",
    "gemini_api_key = os.getenv(\"GEMINI_API_KEY\")"
   ]
  },
  {
   "cell_type": "code",
   "execution_count": 13,
   "id": "068eb610",
   "metadata": {},
   "outputs": [],
   "source": [
    "from google import genai\n",
    "\n",
    "client = genai.Client(api_key=gemini_api_key)\n",
    "\n",
    "model = \"gemma-3-27b-it\""
   ]
  },
  {
   "cell_type": "markdown",
   "id": "460253f4",
   "metadata": {},
   "source": [
    "## Step 4: Generate Explanations"
   ]
  },
  {
   "cell_type": "code",
   "execution_count": 14,
   "id": "36a03aa2",
   "metadata": {},
   "outputs": [
    {
     "name": "stdout",
     "output_type": "stream",
     "text": [
      "\n",
      " Rule: If someone buys Bread, they are likely to buy Butter.\n"
     ]
    },
    {
     "data": {
      "text/markdown": [
       "**SLM Explanation:** This rule, \"If someone buys Bread, they are likely to buy Butter,\" is a classic example of **market basket analysis** and demonstrates a concept called **association rule mining**. Here's a breakdown of why this rule exists and what it means:\n",
       "\n",
       "**Why it's true (the reasoning):**\n",
       "\n",
       "* **Complementary Goods:** Bread and butter are *complementary goods*. This means they are often used *together*.  People commonly eat butter *on* bread.  One enhances the enjoyment of the other.\n",
       "* **Common Meal/Snack:** They're frequently part of the same meal or snack – toast, sandwiches, etc.\n",
       "* **Habit & Tradition:**  For many, using butter with bread is a deeply ingrained habit.\n",
       "* **Convenience:** If someone is already shopping for bread, it's convenient to grab butter at the same time, anticipating needing it.\n",
       "\n",
       "**What the rule means in a business context:**\n",
       "\n",
       "* **Retail Strategy:**  Supermarkets and grocery stores use this information to optimize product placement.  You'll often find bread and butter located near each other. This encourages impulse purchases.\n",
       "* **Promotions & Bundling:**  They might run promotions like \"Buy bread, get butter 50% off\" or bundle them together as a package deal.\n",
       "* **Inventory Management:** Knowing this association helps stores predict demand. If bread sales are high, they can anticipate increased butter sales and adjust inventory accordingly.\n",
       "* **Marketing:**  Targeted advertising – if someone buys bread online, they might see ads for butter.\n",
       "* **Recommendation Systems:**  If you add bread to your online shopping cart, the website might suggest adding butter.\n",
       "\n",
       "\n",
       "\n",
       "**In essence, the rule isn't saying *everyone* who buys bread buys butter. It's saying there's a statistically significant *correlation* between the two purchases.**  The strength of the rule is measured by metrics like:\n",
       "\n",
       "* **Support:** How often both items are purchased together (as a percentage of all transactions).\n",
       "* **Confidence:**  Of all the people who buy bread, what percentage *also* buy butter? (This is what the rule directly states).\n",
       "* **Lift:**  How much more likely are people to buy butter when they buy bread, compared to how likely they are to buy butter in general? (A lift of >1 indicates a positive association).\n",
       "\n",
       "\n",
       "\n",
       "This simple rule is a foundational concept in data mining and is used extensively in retail and other industries to understand customer behavior and improve business strategies.\n",
       "\n",
       "\n",
       "\n"
      ],
      "text/plain": [
       "<IPython.core.display.Markdown object>"
      ]
     },
     "metadata": {},
     "output_type": "display_data"
    },
    {
     "name": "stdout",
     "output_type": "stream",
     "text": [
      "\n",
      " Rule: If someone buys Butter, they are likely to buy Bread.\n"
     ]
    },
    {
     "data": {
      "text/markdown": [
       "**SLM Explanation:** This rule, \"If someone buys Butter, they are likely to buy Bread,\" is a classic example of **market basket analysis** and demonstrates a concept called **association**. It's based on the observation of **customer purchasing patterns**. Here's a breakdown of why this rule exists and what it means:\n",
       "\n",
       "* **Common Usage:** Butter and bread are frequently used *together*.  People typically use butter *on* bread – for toast, sandwiches, or simply spreading on a slice.  It's a very common food pairing.\n",
       "* **Complementary Goods:**  Economically, butter and bread are considered **complementary goods**. This means the demand for one good (butter) increases the demand for the other (bread), and vice versa.  If you're planning to have toast, you'll likely buy both butter *and* bread.\n",
       "* **Data-Driven Discovery:** This rule isn't just a guess. It's usually discovered by analyzing large datasets of transaction data (like from a grocery store's point-of-sale system).  The analysis shows that a statistically significant number of transactions *include both* butter and bread.\n",
       "* **Association Rule Mining:**  The process of finding these kinds of relationships is called **association rule mining**. Algorithms look for items that frequently appear together in transactions.  The rule is often expressed with metrics like:\n",
       "    * **Support:** How often both items appear together in all transactions.\n",
       "    * **Confidence:**  Of all the transactions that contain butter, what percentage *also* contain bread? (This is the \"likely\" part of the rule).\n",
       "    * **Lift:**  How much more likely is bread to be purchased when butter is purchased, compared to the general probability of buying bread? (A lift > 1 indicates a positive association).\n",
       "\n",
       "**How it's used in practice:**\n",
       "\n",
       "* **Product Placement:** Grocery stores will often place butter and bread near each other in the store to encourage impulse purchases.\n",
       "* **Promotions:**  They might run promotions like \"Buy butter, get bread at a discount\" to capitalize on this association.\n",
       "* **Recommendations:** Online retailers might suggest bread to customers who have added butter to their cart (\"Customers who bought this item also bought...\").\n",
       "* **Inventory Management:**  Knowing this relationship helps stores manage their inventory levels to ensure they have enough of both items in stock.\n",
       "\n",
       "\n",
       "\n",
       "In short, the rule isn't a law of nature, but a statistically observed tendency based on how people typically use these products. It's a valuable insight for businesses to understand customer behavior and optimize their sales strategies.\n",
       "\n",
       "\n",
       "\n"
      ],
      "text/plain": [
       "<IPython.core.display.Markdown object>"
      ]
     },
     "metadata": {},
     "output_type": "display_data"
    },
    {
     "name": "stdout",
     "output_type": "stream",
     "text": [
      "\n",
      " Rule: If someone buys Coke, they are likely to buy Bread.\n"
     ]
    },
    {
     "data": {
      "text/markdown": [
       "**SLM Explanation:** This rule, \"If someone buys Coke, they are likely to buy Bread,\" is a classic example of a phenomenon called **market basket analysis** or **association rule mining**. It's based on observing patterns in transaction data. Here's a breakdown of why this might be true and what it means:\n",
       "\n",
       "**Why it happens (the likely explanations):**\n",
       "\n",
       "* **Lunch/Mealtime Connection:** The most common reason. Coke is often consumed *with* a meal, and bread (sandwiches, toast, etc.) is a staple food for lunch or dinner. People buying Coke are likely thinking about or preparing a meal.\n",
       "* **BBQs & Gatherings:**  Coke is a popular drink at barbecues and social gatherings. Bread (burger buns, hot dog rolls, sandwich bread for sides) is also a common item at these events.\n",
       "* **Snack Combination:** Some people enjoy Coke with a simple snack like toast with butter or a quick sandwich.\n",
       "* **Impulse Purchase:** Seeing Coke might *trigger* a thought about needing bread, leading to an impulse purchase.  (This is less common, but possible).\n",
       "* **Demographic Correlation:**  It's *possible* (though less likely without more data) that the demographics of people who frequently buy Coke also tend to frequently buy bread.  (e.g., families with children).\n",
       "\n",
       "**What it means (for businesses):**\n",
       "\n",
       "* **Product Placement:**  Supermarkets might place Coke and bread near each other in the store to encourage both purchases. This is a direct application of the rule.\n",
       "* **Promotions & Bundles:**  They might run promotions like \"Buy a Coke, get a discount on bread\" or create bundles (Coke + bread + sandwich fillings) to increase sales.\n",
       "* **Inventory Management:** Knowing this association helps them predict demand. If Coke sales are high, they can anticipate increased bread sales and stock accordingly.\n",
       "* **Targeted Marketing:**  They could target customers who buy Coke with ads for bread or sandwich ingredients.\n",
       "* **Understanding Customer Behavior:** It provides insight into how customers shop and what products they tend to buy together.\n",
       "\n",
       "\n",
       "\n",
       "**Important Note:**  This rule doesn't mean *everyone* who buys Coke buys bread. It simply means there's a statistically significant *correlation* between the two purchases.  The strength of the correlation is measured by metrics like:\n",
       "\n",
       "* **Support:** How often both items are purchased together (as a percentage of all transactions).\n",
       "* **Confidence:**  Of all the transactions that include Coke, what percentage *also* include bread.\n",
       "* **Lift:**  How much more likely is bread to be purchased when Coke is purchased, compared to how likely bread is to be purchased on its own.  (Lift > 1 indicates a positive association).\n",
       "\n",
       "\n",
       "\n",
       "In conclusion, the \"Coke and Bread\" rule is a practical example of how data analysis can reveal hidden patterns in consumer behavior and be used to improve business strategies.\n",
       "\n",
       "\n",
       "\n"
      ],
      "text/plain": [
       "<IPython.core.display.Markdown object>"
      ]
     },
     "metadata": {},
     "output_type": "display_data"
    },
    {
     "name": "stdout",
     "output_type": "stream",
     "text": [
      "\n",
      " Rule: If someone buys Bread, they are likely to buy Milk.\n"
     ]
    },
    {
     "data": {
      "text/markdown": [
       "**SLM Explanation:** This rule, \"If someone buys Bread, they are likely to buy Milk,\" is a classic example of **market basket analysis** and demonstrates a concept called **association**. It's based on observed patterns in purchasing data. Here's a breakdown of why this rule exists and what it means:\n",
       "\n",
       "**Why it happens (the reasons behind the association):**\n",
       "\n",
       "* **Common Consumption:** Bread and milk are frequently consumed *together*.  Think about breakfast (toast and milk), sandwiches (bread and often a glass of milk), or simply a snack. They're a natural pairing for many people.\n",
       "* **Meal Planning:** People often buy ingredients for meals. If someone is buying bread, they might be planning to make toast, sandwiches, or other dishes that commonly include milk.\n",
       "* **Family Habits:**  Families with children often have both bread and milk as staples.\n",
       "* **Convenience:**  It's easy to add milk to a shopping cart when already getting bread. It's a quick, often thoughtless addition.\n",
       "* **Cultural Norms:** In many cultures, bread and milk are considered basic food items and are often purchased together.\n",
       "\n",
       "**What the rule means (how it's used):**\n",
       "\n",
       "* **Retail Strategy:**  Retailers use this information to:\n",
       "    * **Product Placement:**  They often place bread and milk in different parts of the store, *forcing* customers to walk past other items to get both. This increases the chance of impulse purchases.\n",
       "    * **Promotions:** They might run promotions like \"Buy bread, get a discount on milk\" to encourage the purchase of both items.\n",
       "    * **Shelf Arrangement:** They might place them near each other, even if not directly adjacent, to remind customers.\n",
       "* **Predictive Modeling:**  This rule can be used in predictive models. If a customer puts bread in their online shopping cart, the system might *suggest* they also add milk.\n",
       "* **Understanding Customer Behavior:** It helps retailers understand how customers shop and what products are related.\n",
       "\n",
       "\n",
       "\n",
       "**Important Note:  \"Likely\" doesn't mean \"always.\"**  Not everyone who buys bread buys milk.  The rule is based on *probability* and observed trends.  It's a strong association, but not a guaranteed outcome.\n",
       "\n",
       "\n",
       "\n",
       "In essence, this rule is a simple illustration of how data analysis can reveal hidden relationships between products and inform business decisions.  It's a cornerstone of techniques like association rule learning (often using algorithms like Apriori) in data mining.\n",
       "\n",
       "\n",
       "\n"
      ],
      "text/plain": [
       "<IPython.core.display.Markdown object>"
      ]
     },
     "metadata": {},
     "output_type": "display_data"
    },
    {
     "name": "stdout",
     "output_type": "stream",
     "text": [
      "\n",
      " Rule: If someone buys Milk, they are likely to buy Bread.\n"
     ]
    },
    {
     "data": {
      "text/markdown": [
       "**SLM Explanation:** This rule, \"If someone buys Milk, they are likely to buy Bread,\" is a classic example of **market basket analysis** and demonstrates a concept called **association rule mining**. Here's a breakdown of what it means and why it happens:\n",
       "\n",
       "**What it means:**\n",
       "\n",
       "* **Correlation, not Causation:** It *doesn't* mean buying milk *causes* someone to buy bread. It simply means there's a statistical tendency for these two items to be purchased together.\n",
       "* **Probability:** It suggests that if you see someone with milk in their shopping cart, there's a higher probability they *also* have bread in their cart compared to someone who *doesn't* have milk.\n",
       "* **Not Always True:**  Of course, not *everyone* who buys milk buys bread, and vice versa. It's a likelihood, not a certainty.\n",
       "\n",
       "**Why it happens (the reasons behind the association):**\n",
       "\n",
       "* **Common Breakfast/Meal Combination:** Milk and bread are frequently used together for breakfast (cereal, toast, etc.) or lunch (sandwiches).  This is the most common driver.\n",
       "* **Family Staples:** Both are considered staple grocery items, often purchased regularly by families.  People doing a general grocery shop are likely to buy both.\n",
       "* **Convenience:**  People often plan meals around basic ingredients. If they're buying milk for the week, they might also think about bread for toast or sandwiches.\n",
       "* **Habit:**  People develop shopping habits. If they've often bought milk and bread together in the past, they might continue to do so out of routine.\n",
       "* **Cultural Factors:** In some cultures, milk and bread are particularly common food pairings.\n",
       "\n",
       "\n",
       "\n",
       "**How it's used in business (Retail):**\n",
       "\n",
       "Retailers use this kind of information extensively:\n",
       "\n",
       "* **Product Placement:** They'll often place milk and bread near each other in the store to encourage impulse purchases.\n",
       "* **Promotions:** They might run promotions like \"Buy Milk, Get Bread 50% Off\" to capitalize on this association.\n",
       "* **Shelf Arrangement:**  They'll analyze which products are frequently bought together and arrange shelves accordingly.\n",
       "* **Targeted Marketing:** They can use this data to target customers with relevant offers (e.g., if someone frequently buys milk, they might receive a coupon for bread).\n",
       "* **Inventory Management:**  Knowing these associations helps them predict demand and manage inventory levels.\n",
       "\n",
       "\n",
       "\n",
       "**In short, the rule highlights a common purchasing pattern that retailers can leverage to increase sales and improve the shopping experience.**\n",
       "\n",
       "\n",
       "\n"
      ],
      "text/plain": [
       "<IPython.core.display.Markdown object>"
      ]
     },
     "metadata": {},
     "output_type": "display_data"
    },
    {
     "name": "stdout",
     "output_type": "stream",
     "text": [
      "\n",
      " Rule: If someone buys Milk, they are likely to buy Butter.\n"
     ]
    },
    {
     "data": {
      "text/markdown": [
       "**SLM Explanation:** This rule, \"If someone buys Milk, they are likely to buy Butter,\" is a classic example of **market basket analysis** and demonstrates a concept called **association rule mining**. Here's a breakdown of why this rule exists and what it means:\n",
       "\n",
       "**Why it happens (the reasons behind the association):**\n",
       "\n",
       "* **Complementary Products:** Milk and butter are often used *together* in cooking and baking. People use milk for cereal, coffee, recipes, etc., and butter is a common ingredient in many of those same uses (toast, pancakes, cookies, sauces). They *complement* each other.\n",
       "* **Common Meal Times:**  Both are frequently purchased for breakfast (toast & milk, pancakes & butter) or for making meals.\n",
       "* **Habit & Tradition:**  Many people are accustomed to having both milk and butter on hand. It's a common household staple combination.\n",
       "* **Recipe Planning:** Someone planning to bake a cake or make a sauce is likely to buy both milk and butter as ingredients.\n",
       "* **Proximity in the Store:**  Grocery stores often place milk and butter near each other.  This physical proximity increases the chance of impulse purchases – seeing one reminds you of the other.\n",
       "\n",
       "**What the rule means (in a business context):**\n",
       "\n",
       "* **Predictive Power:**  The rule suggests that if a customer has milk in their shopping cart, there's a higher probability they will *also* buy butter.  It's not a guarantee, but a likelihood.\n",
       "* **Marketing Opportunities:**  Retailers can use this information in several ways:\n",
       "    * **Product Placement:**  Keep milk and butter close together in the store.\n",
       "    * **Promotions:** Offer discounts or bundles (e.g., \"Buy milk, get butter 10% off\").\n",
       "    * **Targeted Advertising:**  If a customer buys milk online, show them ads for butter.\n",
       "    * **Recommendations:**  \"Customers who bought milk also bought...\" suggestions on websites or at checkout.\n",
       "* **Inventory Management:**  Knowing this association helps stores manage their inventory. If milk sales are high, they can anticipate increased butter sales.\n",
       "\n",
       "\n",
       "\n",
       "**Important Considerations:**\n",
       "\n",
       "* **\"Likely\" doesn't mean \"always.\"**  Not everyone who buys milk buys butter.  The rule is based on statistical probability.\n",
       "* **Strength of the Rule:**  The rule's usefulness depends on *how* likely someone is to buy butter when they buy milk.  This is measured by metrics like:\n",
       "    * **Support:** How frequently both items are purchased together.\n",
       "    * **Confidence:**  Of all the customers who buy milk, what percentage *also* buy butter?\n",
       "    * **Lift:**  How much more likely are customers to buy butter when they buy milk, compared to the general probability of buying butter? (Lift > 1 indicates a positive association).\n",
       "\n",
       "\n",
       "\n",
       "In essence, this rule is a simple illustration of how data analysis can reveal patterns in consumer behavior, allowing businesses to make smarter decisions about marketing, merchandising, and inventory.\n",
       "\n",
       "\n",
       "\n"
      ],
      "text/plain": [
       "<IPython.core.display.Markdown object>"
      ]
     },
     "metadata": {},
     "output_type": "display_data"
    },
    {
     "name": "stdout",
     "output_type": "stream",
     "text": [
      "\n",
      " Rule: If someone buys Butter, they are likely to buy Milk.\n"
     ]
    },
    {
     "data": {
      "text/markdown": [
       "**SLM Explanation:** This rule, \"If someone buys Butter, they are likely to buy Milk,\" is a classic example of **market basket analysis** and demonstrates a concept called **association**. It means that there's a statistically significant relationship between the purchase of butter and the purchase of milk. Here's a breakdown of why this rule exists and what it means:\n",
       "\n",
       "**Why it happens (the reasons behind the association):**\n",
       "\n",
       "* **Complementary Goods:** Butter and milk are often used *together*.  People use butter on toast, in baking (often with milk), in cooking (recipes frequently call for both), and with other breakfast items often paired with milk (like cereal). They *complement* each other.\n",
       "* **Common Meal Occasions:** Both are frequently purchased for breakfast, baking, or general cooking.  Someone planning a breakfast or baking session is likely to need both.\n",
       "* **Habitual Buying:**  Many people regularly buy both items as part of their weekly grocery shopping. It's a common pairing in many households.\n",
       "* **Recipe-Driven Purchases:**  A shopper might be buying butter because they're making a recipe that *also* requires milk.\n",
       "\n",
       "**What the rule means (how it's used):**\n",
       "\n",
       "* **Retail Strategy:**  Retailers use this information to:\n",
       "    * **Product Placement:**  Place butter and milk close together in the store. This encourages impulse buys – someone grabbing butter might remember they need milk and add it to their cart.\n",
       "    * **Promotions:**  Run promotions like \"Buy Butter, Get Milk at a Discount\" or bundle deals.\n",
       "    * **Shelf Space Allocation:**  Ensure sufficient shelf space for both products, anticipating higher demand when one is popular.\n",
       "    * **Inventory Management:**  Better predict demand for both items.  If butter sales are up, they can anticipate milk sales will also increase.\n",
       "* **Marketing:**  Target customers who buy butter with ads for milk (and vice versa).\n",
       "* **Data Analysis:** This is a simple example, but the principle extends to analyzing *many* products to find hidden relationships and improve sales.\n",
       "\n",
       "\n",
       "\n",
       "**In essence, the rule isn't saying *everyone* who buys butter will buy milk. It's saying that the *probability* of someone buying milk is significantly higher if they've already purchased butter.**  It's a pattern observed in sales data.\n",
       "\n",
       "\n",
       "\n"
      ],
      "text/plain": [
       "<IPython.core.display.Markdown object>"
      ]
     },
     "metadata": {},
     "output_type": "display_data"
    },
    {
     "name": "stdout",
     "output_type": "stream",
     "text": [
      "\n",
      " Rule: If someone buys Coke, they are likely to buy Milk.\n"
     ]
    },
    {
     "data": {
      "text/markdown": [
       "**SLM Explanation:** Okay, this rule – \"If someone buys Coke, they are likely to buy Milk\" – is a classic example of a phenomenon called **market basket analysis** or **association rule mining**. It sounds odd at first, right? Coke and Milk don't seem like natural pairings. Here's a breakdown of why this rule often holds true, and the reasoning behind it:\n",
       "\n",
       "**The Core Explanation: Breakfast & Morning Habits**\n",
       "\n",
       "The most common reason this rule appears is due to **breakfast habits**.  Here's how it works:\n",
       "\n",
       "* **Coke as a Treat:**  People (especially children, but not exclusively) often enjoy a sugary drink like Coke *with* breakfast.\n",
       "* **Milk is a Breakfast Staple:** Milk is a very common breakfast beverage, often consumed with cereal, oatmeal, or other breakfast foods.\n",
       "* **Shopping Trips:**  People often buy groceries for the week, and a significant portion of that shopping is for breakfast items.  \n",
       "\n",
       "Therefore, a shopping trip that includes Coke is *also* likely to include milk because it's a common breakfast shopping trip.  It's not that Coke *causes* people to buy milk, it's that both are frequently purchased *together* during a specific type of shopping occasion.\n",
       "\n",
       "**More Detailed Breakdown & Considerations:**\n",
       "\n",
       "* **Data-Driven Discovery:** This rule isn't based on logic someone thought up. It's discovered by analyzing *large datasets* of transaction data (like from grocery store loyalty cards).  Algorithms look for items that frequently appear in the same shopping baskets.\n",
       "* **Support, Confidence, and Lift (Key Metrics):**  To understand how strong this rule is, we use these metrics:\n",
       "    * **Support:**  How often do both Coke and Milk appear together in all transactions? (e.g., 5% of all shopping trips include both)\n",
       "    * **Confidence:**  Of all the people who buy Coke, what percentage *also* buy Milk? (e.g., 40% of Coke buyers also buy Milk).  This is the \"If...then...\" part of the rule.\n",
       "    * **Lift:**  This is the most important metric. It tells you how much more likely someone is to buy Milk *if* they buy Coke, compared to how likely they are to buy Milk in general.  A lift of greater than 1 indicates a positive association.  (e.g., If the lift is 2, it means people who buy Coke are *twice* as likely to buy Milk as the average shopper).\n",
       "* **Other Possible (Less Common) Reasons:**\n",
       "    * **Recipes:**  Some recipes might call for both Coke and Milk (though this is less common).  Think of certain desserts or marinades.\n",
       "    * **Cultural/Regional Habits:**  In some regions, there might be a cultural practice of combining these items.\n",
       "    * **Promotions:**  If a store runs a promotion bundling Coke and Milk, it will artificially inflate the association.\n",
       "\n",
       "\n",
       "\n",
       "**In essence, the rule isn't about a logical connection between the products themselves, but about the *behavior* of shoppers and the context of their purchases.**  It's a statistical observation, not a causal relationship.\n",
       "\n",
       "\n",
       "\n",
       "**How is this used in practice?**\n",
       "\n",
       "Retailers use these kinds of association rules for:\n",
       "\n",
       "* **Product Placement:** Placing Coke and Milk near each other in the store to encourage impulse purchases.\n",
       "* **Promotions:** Offering discounts on Milk when someone buys Coke (or vice versa).\n",
       "* **Targeted Marketing:**  Sending coupons for Milk to customers who have previously purchased Coke.\n",
       "* **Inventory Management:**  Ensuring they have enough of both products in stock.\n",
       "\n",
       "\n",
       "\n",
       "Does that explanation make sense?  Let me know if you'd like me to elaborate on any specific aspect!"
      ],
      "text/plain": [
       "<IPython.core.display.Markdown object>"
      ]
     },
     "metadata": {},
     "output_type": "display_data"
    },
    {
     "name": "stdout",
     "output_type": "stream",
     "text": [
      "\n",
      " Rule: If someone buys Milk, they are likely to buy Coke.\n"
     ]
    },
    {
     "data": {
      "text/markdown": [
       "**SLM Explanation:** This rule, \"If someone buys Milk, they are likely to buy Coke,\" is a classic example of **market basket analysis** and demonstrates a concept called **association rule mining**. It's based on observing patterns in transaction data. Here's a breakdown of what it means and why it happens:\n",
       "\n",
       "**What it means:**\n",
       "\n",
       "* **It doesn't mean *everyone* who buys milk buys Coke.** It means that, statistically, people who purchase milk are *more likely* to also purchase Coke than people who *don't* buy milk.\n",
       "* **It's a correlation, not causation.** Buying milk doesn't *cause* someone to buy Coke. There's a relationship, but one doesn't directly make the other happen.\n",
       "* **\"Likely\" is quantified.**  The strength of this rule is measured by metrics like:\n",
       "    * **Support:** How often both milk and Coke are purchased together (as a percentage of all transactions).\n",
       "    * **Confidence:**  Of all the people who buy milk, what percentage *also* buy Coke? (This is the \"likely\" part).  A high confidence means the rule is strong.\n",
       "    * **Lift:**  How much more likely are people to buy Coke when they buy milk, compared to how likely they are to buy Coke generally?  A lift greater than 1 indicates a positive association.\n",
       "\n",
       "**Why does this happen? (Possible Explanations)**\n",
       "\n",
       "There are several reasons why this association might exist:\n",
       "\n",
       "* **Breakfast/Meal Pairing:** Milk and Coke are often consumed with breakfast or as part of a meal.  Someone buying milk for cereal might also grab a Coke to drink.\n",
       "* **Snack/Treat Combination:**  Milk and Coke can be part of a snack combination – perhaps with cookies or cake.\n",
       "* **Family Purchases:**  Families often buy both milk for children and Coke for other family members.\n",
       "* **Convenience:**  People might be stocking up on common household items at the same time.\n",
       "* **Cultural Habits:**  In some regions or cultures, there might be a tradition of consuming these items together.\n",
       "* **Promotional Activities:**  Sometimes stores will run promotions that encourage buying these items together (e.g., \"Buy milk and get a discount on Coke\").\n",
       "\n",
       "\n",
       "\n",
       "**How it's used in retail:**\n",
       "\n",
       "Retailers use this kind of information for:\n",
       "\n",
       "* **Product Placement:** Placing milk and Coke near each other in the store to encourage impulse purchases.\n",
       "* **Promotions:**  Offering discounts or bundles on milk and Coke.\n",
       "* **Marketing:**  Targeting customers who buy milk with ads for Coke.\n",
       "* **Inventory Management:**  Ensuring they have enough of both products in stock.\n",
       "\n",
       "\n",
       "\n",
       "**In short, the rule isn't about a logical connection between milk and Coke, but about a statistically observed pattern in customer purchasing behavior.**  It's a valuable insight for businesses looking to optimize their sales and marketing strategies.\n",
       "\n",
       "\n",
       "\n"
      ],
      "text/plain": [
       "<IPython.core.display.Markdown object>"
      ]
     },
     "metadata": {},
     "output_type": "display_data"
    },
    {
     "name": "stdout",
     "output_type": "stream",
     "text": [
      "\n",
      " Rule: If someone buys Bread, Milk, they are likely to buy Butter.\n"
     ]
    },
    {
     "data": {
      "text/markdown": [
       "**SLM Explanation:** This rule is a classic example of **market basket analysis** and demonstrates a concept called **association rule mining**. It essentially means that there's a strong statistical relationship between the purchase of Bread and Milk, and the purchase of Butter. Here's a breakdown of why this rule exists and what it means:\n",
       "\n",
       "**Why it happens (the reasoning behind the association):**\n",
       "\n",
       "* **Common Meal/Use Case:** Bread, Milk, and Butter are frequently used together.  Think about:\n",
       "    * **Toast:** Bread + Butter + often Milk (with cereal or to drink)\n",
       "    * **Sandwiches:** Bread + Butter (sometimes) + Milk (to drink)\n",
       "    * **Breakfast:**  Cereal with Milk, Toast with Butter\n",
       "    * **Baking:**  Butter is a common ingredient in recipes that often involve milk and are served with bread.\n",
       "* **Habitual Buying:** People often buy these items together as part of a regular grocery shopping routine.  Once they have bread and milk, they *remember* they need butter, or it's simply part of their mental checklist.\n",
       "* **Complementary Goods:**  These items *complement* each other.  Butter makes bread more enjoyable, and milk often accompanies bread-based meals.\n",
       "\n",
       "**What the rule means (in a business context):**\n",
       "\n",
       "* **Predictive Power:**  If a customer puts Bread and Milk in their shopping cart, there's a higher probability they will also buy Butter.\n",
       "* **Marketing Opportunities:**\n",
       "    * **Product Placement:**  Stores can place Bread, Milk, and Butter close together in the store to encourage impulse purchases.\n",
       "    * **Promotions:**  Offer discounts or bundles (e.g., \"Buy Bread and Milk, get Butter 10% off\").\n",
       "    * **Recommendations:**  Online retailers can suggest Butter to customers who have added Bread and Milk to their cart.\n",
       "    * **Inventory Management:**  Ensure sufficient stock of Butter when Bread and Milk sales are high.\n",
       "\n",
       "\n",
       "\n",
       "**Important Considerations:**\n",
       "\n",
       "* **\"Likely\" doesn't mean \"always.\"**  Not everyone who buys Bread and Milk will buy Butter.  The rule expresses a *probability*, not a certainty.\n",
       "* **Strength of the Rule:**  The rule's usefulness depends on *how* likely someone is to buy Butter given Bread and Milk.  This is measured by metrics like:\n",
       "    * **Support:** How frequently the combination of all three items appears in transactions.\n",
       "    * **Confidence:**  Of all the transactions that contain Bread and Milk, what percentage *also* contain Butter? (This is the main measure of the rule's strength).\n",
       "    * **Lift:**  How much more likely is Butter to be purchased when Bread and Milk are purchased, compared to how likely Butter is to be purchased on its own? (Lift > 1 indicates a positive association).\n",
       "\n",
       "\n",
       "\n",
       "In conclusion, the \"Bread, Milk -> Butter\" rule is a simple but powerful example of how analyzing purchase patterns can reveal valuable insights for businesses to improve their marketing, sales, and inventory strategies.\n",
       "\n",
       "\n",
       "\n"
      ],
      "text/plain": [
       "<IPython.core.display.Markdown object>"
      ]
     },
     "metadata": {},
     "output_type": "display_data"
    },
    {
     "name": "stdout",
     "output_type": "stream",
     "text": [
      "\n",
      " Rule: If someone buys Butter, Milk, they are likely to buy Bread.\n"
     ]
    },
    {
     "data": {
      "text/markdown": [
       "**SLM Explanation:** This rule, \"If someone buys Butter, Milk, they are likely to buy Bread,\" is a classic example of **market basket analysis** and demonstrates a concept called **association rule mining**. Here's a breakdown of what it means and why it happens:\n",
       "\n",
       "**What it means:**\n",
       "\n",
       "* **Association:** The rule suggests a strong *relationship* between the purchase of Butter and Milk and the purchase of Bread. It doesn't mean *everyone* who buys Butter and Milk will buy Bread, but that the *probability* of them doing so is significantly higher than if they hadn't bought Butter and Milk.\n",
       "* **Likelihood, not certainty:**  It's a predictive rule, not a deterministic one.  It's saying \"often,\" not \"always.\"\n",
       "* **Data-driven:** This rule isn't based on intuition; it's discovered by analyzing large datasets of transaction history (like supermarket receipts).\n",
       "\n",
       "**Why it happens (the reasons behind the association):**\n",
       "\n",
       "* **Common Breakfast/Meal Combination:** Butter, Milk, and Bread are frequently used together for common meals like toast, sandwiches, or breakfast. People often plan meals and buy ingredients accordingly.\n",
       "* **Complementary Goods:** These items *complement* each other.  Butter needs bread to be spread on, milk is often drunk with breakfast that includes bread, etc.  Buying one makes the others more useful.\n",
       "* **Habitual Purchases:**  Many households regularly consume all three items.  A trip to the store to replenish staples might include all three.\n",
       "* **Recipe Planning:** Someone might be planning to make something that requires all three ingredients (e.g., French toast, a simple cake).\n",
       "\n",
       "\n",
       "\n",
       "**How it's used in practice (by businesses):**\n",
       "\n",
       "* **Product Placement:** Supermarkets might place Butter, Milk, and Bread close together in the store to encourage impulse purchases.\n",
       "* **Promotions & Bundling:** They might offer discounts when you buy all three items together (\"Buy Butter & Milk, get Bread half price!\").\n",
       "* **Recommendations:** Online retailers might suggest Bread to customers who have added Butter and Milk to their cart (\"Customers who bought this also bought...\").\n",
       "* **Inventory Management:**  Knowing this association helps stores ensure they have enough of all three items in stock, especially during peak times.\n",
       "\n",
       "\n",
       "\n",
       "\n",
       "**In short, the rule highlights a common purchasing pattern that retailers can leverage to increase sales and improve the customer experience.**\n",
       "\n",
       "\n",
       "\n"
      ],
      "text/plain": [
       "<IPython.core.display.Markdown object>"
      ]
     },
     "metadata": {},
     "output_type": "display_data"
    },
    {
     "name": "stdout",
     "output_type": "stream",
     "text": [
      "\n",
      " Rule: If someone buys Bread, Butter, they are likely to buy Milk.\n"
     ]
    },
    {
     "data": {
      "text/markdown": [
       "**SLM Explanation:** This rule is a classic example of **market basket analysis** and demonstrates a concept called **association rule mining**. It essentially means that there's a statistically significant correlation between the purchase of Bread and Butter and the purchase of Milk. \n",
       "\n",
       "Here's a breakdown of why this rule exists and what it means:\n",
       "\n",
       "* **Common Consumption Patterns:** Bread and Butter are often eaten *with* Milk.  Think about breakfast, tea time, or a simple snack. They're frequently consumed together as a meal or part of one.\n",
       "* **Complementary Goods:**  Bread, Butter, and Milk are considered **complementary goods**.  This means the usefulness or enjoyment of one good increases when the others are also present.  Bread and butter are good, but *better* with a glass of milk.\n",
       "* **Data-Driven Discovery:** This rule isn't based on someone's intuition necessarily. It's discovered by analyzing large datasets of transaction data (like supermarket receipts).  The analysis shows that a significant percentage of transactions containing both Bread *and* Butter *also* contain Milk.\n",
       "* **Association, Not Causation:**  It's important to understand this is an *association*, not a *causation*. Buying bread and butter doesn't *cause* someone to buy milk. It's simply that people who buy bread and butter are *more likely* to also buy milk.\n",
       "\n",
       "**How it's used in practice:**\n",
       "\n",
       "Retailers use rules like this for:\n",
       "\n",
       "* **Product Placement:** Placing Milk near the Bread and Butter sections in the store.\n",
       "* **Promotions:** Offering discounts on Milk when customers buy Bread and Butter. (\"Buy Bread & Butter, get Milk 50% off!\")\n",
       "* **Recommendations:**  Suggesting Milk to customers who have Bread and Butter in their online shopping cart. (\"Customers who bought this also bought...\")\n",
       "* **Inventory Management:** Ensuring sufficient stock of Milk when Bread and Butter sales are high.\n",
       "\n",
       "\n",
       "\n",
       "In short, the rule \"If someone buys Bread, Butter, they are likely to buy Milk\" is a valuable insight into consumer behavior that retailers can leverage to increase sales and improve the shopping experience.\n",
       "\n",
       "\n",
       "\n"
      ],
      "text/plain": [
       "<IPython.core.display.Markdown object>"
      ]
     },
     "metadata": {},
     "output_type": "display_data"
    },
    {
     "name": "stdout",
     "output_type": "stream",
     "text": [
      "\n",
      " Rule: If someone buys Milk, they are likely to buy Bread, Butter.\n"
     ]
    },
    {
     "data": {
      "text/markdown": [
       "**SLM Explanation:** This rule is a classic example of **market basket analysis** and demonstrates a concept called **association rule mining**. It's based on the observation that certain items are frequently purchased *together*. Here's a breakdown of why this rule (\"If someone buys Milk, they are likely to buy Bread, Butter\") exists and what it means:\n",
       "\n",
       "**Why it happens (the underlying reasons):**\n",
       "\n",
       "* **Common Breakfast/Meal Combinations:** Milk, bread, and butter are all staples of a very common breakfast – toast with butter and a glass of milk.  They also fit into other meals like sandwiches.\n",
       "* **Household Staples:** These are all frequently used items in many households. People often replenish them at the same time.\n",
       "* **Habitual Buying:**  People get into routines. If they're already shopping for milk, it's easy to remember they also need bread and butter.\n",
       "* **Complementary Goods:** They *complement* each other.  Bread and butter are often used *with* milk (or other beverages). Milk is often used *on* cereal which is often eaten *with* bread.\n",
       "\n",
       "**What the rule means (in a retail/business context):**\n",
       "\n",
       "* **Predictive Power:**  The rule suggests that if a customer has milk in their shopping cart, there's a higher probability they will also purchase bread and butter.\n",
       "* **Cross-Selling Opportunities:** Retailers can use this information to:\n",
       "    * **Placement:** Place bread and butter near the milk in the store.\n",
       "    * **Promotions:** Offer discounts or bundles (e.g., \"Buy milk and get a discount on bread and butter\").\n",
       "    * **Recommendations:**  If a customer is buying milk online, suggest bread and butter as \"Frequently Bought Together\" items.\n",
       "* **Inventory Management:**  Knowing these items are often bought together helps retailers manage their inventory levels to avoid stockouts.\n",
       "\n",
       "\n",
       "\n",
       "**In essence, this rule isn't about a *causal* relationship (milk *causes* you to buy bread and butter). It's about a *correlation* – a statistical relationship showing that these items frequently appear together in customer purchases.**\n",
       "\n",
       "\n",
       "\n",
       "This type of analysis is widely used in retail, e-commerce, and other industries to understand customer behavior and optimize sales strategies.  It's a fundamental part of data mining and machine learning.\n",
       "\n",
       "\n",
       "\n"
      ],
      "text/plain": [
       "<IPython.core.display.Markdown object>"
      ]
     },
     "metadata": {},
     "output_type": "display_data"
    },
    {
     "name": "stdout",
     "output_type": "stream",
     "text": [
      "\n",
      " Rule: If someone buys Butter, they are likely to buy Bread, Milk.\n"
     ]
    },
    {
     "data": {
      "text/markdown": [
       "**SLM Explanation:** This rule is a classic example of **market basket analysis** or **association rule mining**. It's based on the observation of purchasing patterns – specifically, that there's a strong *correlation* between buying butter and buying bread and milk.  Here's a breakdown of what it means and why it happens:\n",
       "\n",
       "**What it means:**\n",
       "\n",
       "* **If...Then Rule:** The rule states that *if* a customer puts butter in their shopping basket, *then* there's a high probability they will *also* purchase bread and milk.\n",
       "* **Not Causation, but Correlation:**  It's crucial to understand this isn't saying butter *causes* people to buy bread and milk. It simply means these items are frequently bought *together*.\n",
       "* **Likelihood, Not Guarantee:** It doesn't mean *every* butter buyer will buy bread and milk. It means the *likelihood* is significantly higher than if they hadn't bought butter.\n",
       "\n",
       "**Why this happens (the underlying reasons):**\n",
       "\n",
       "* **Common Use Case:** Butter, bread, and milk are all staples in a very common breakfast or snack scenario: toast with butter and a glass of milk.  This is the most obvious and likely driver.\n",
       "* **Sandwiches:** Butter and bread are essential for making sandwiches, and milk is often consumed with sandwiches.\n",
       "* **Baking:** All three ingredients are frequently used in baking (cakes, cookies, etc.).\n",
       "* **Habitual Purchases:** People often buy these items together out of habit.  If they regularly have toast for breakfast, they'll likely buy all three items on a grocery trip.\n",
       "* **Meal Planning:**  Customers might be planning a meal (like French toast) that requires all three ingredients.\n",
       "\n",
       "\n",
       "\n",
       "**How this rule is used (in practice):**\n",
       "\n",
       "* **Retail Store Layout:** Stores often place these items near each other to encourage impulse purchases.  You'll frequently find bread and milk close to the butter section.\n",
       "* **Promotions & Bundling:**  Retailers might offer promotions like \"Buy Butter, Get a Discount on Bread and Milk\" or bundle them together.\n",
       "* **Targeted Advertising:**  If a customer buys butter online, the website might suggest bread and milk as \"You might also like...\" items.\n",
       "* **Inventory Management:**  Knowing this association helps stores ensure they have enough stock of all three items, especially during peak shopping times.\n",
       "* **Recommendation Systems:**  Used in online shopping to suggest related products.\n",
       "\n",
       "\n",
       "\n",
       "**In short, the rule highlights a common consumer behavior pattern that retailers can leverage to increase sales and improve the shopping experience.**\n",
       "\n",
       "\n",
       "\n"
      ],
      "text/plain": [
       "<IPython.core.display.Markdown object>"
      ]
     },
     "metadata": {},
     "output_type": "display_data"
    }
   ],
   "source": [
    "from IPython.display import display, Markdown\n",
    "\n",
    "if not rules.empty: \n",
    "    for index, row in rules.iterrows(): \n",
    "        antecedent = ', '.join(list(row['antecedents'])) \n",
    "        consequent = ', '.join(list(row['consequents'])) \n",
    "        rule = f\"If someone buys {antecedent}, they are likely to buy {consequent}.\" \n",
    " \n",
    "        print(\"\\n Rule:\", rule) \n",
    "        explanation = client.models.generate_content(model = model, contents = f\"Explain this rule: {rule}\") \n",
    "        display(Markdown(f\"**SLM Explanation:** {explanation.text}\"))\n",
    "else: \n",
    "        print(\"\\n No association rules found. Try further lowering support/confidence thresholds or check your data.\")"
   ]
  }
 ],
 "metadata": {
  "kernelspec": {
   "display_name": "Python 3",
   "language": "python",
   "name": "python3"
  },
  "language_info": {
   "codemirror_mode": {
    "name": "ipython",
    "version": 3
   },
   "file_extension": ".py",
   "mimetype": "text/x-python",
   "name": "python",
   "nbconvert_exporter": "python",
   "pygments_lexer": "ipython3",
   "version": "3.12.7"
  }
 },
 "nbformat": 4,
 "nbformat_minor": 5
}
