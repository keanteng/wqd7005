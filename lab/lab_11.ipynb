{
 "cells": [
  {
   "cell_type": "markdown",
   "id": "5f1fc15b",
   "metadata": {},
   "source": [
    "# Lab 11"
   ]
  },
  {
   "cell_type": "markdown",
   "id": "cb880690",
   "metadata": {},
   "source": [
    "## Part 1: PAA and SAX"
   ]
  },
  {
   "cell_type": "code",
   "execution_count": 1,
   "id": "e80b3e6b",
   "metadata": {},
   "outputs": [
    {
     "name": "stdout",
     "output_type": "stream",
     "text": [
      "PAA: [-0.45000000000000007, 0.2, 0.55, -0.2]\n"
     ]
    }
   ],
   "source": [
    "import numpy as np \n",
    "\n",
    "T = np.array([-1.1, 0.2, 1.3, -0.9, 0.5, 0.6, -0.4, 0.0]) \n",
    "segments = 4 \n",
    "segment_size = len(T) // segments \n",
    "paa = [np.mean(T[i * segment_size:(i + 1) * segment_size]) for i in \n",
    "range(segments)] \n",
    "print(\"PAA:\", paa) "
   ]
  },
  {
   "cell_type": "code",
   "execution_count": 2,
   "id": "93de63ea",
   "metadata": {},
   "outputs": [
    {
     "name": "stdout",
     "output_type": "stream",
     "text": [
      "SAX: ['a', 'b', 'c', 'b']\n"
     ]
    }
   ],
   "source": [
    "# Breakpoints: [-0.43, 0.43] for 3-letter alphabet \n",
    "def sax(paa, breakpoints=[-0.43, 0.43]): \n",
    "    alphabet = ['a', 'b', 'c'] \n",
    "    return [alphabet[sum(p > bp for bp in breakpoints)] for p in paa] \n",
    "\n",
    "sax_rep = sax(paa) \n",
    "print(\"SAX:\", sax_rep) "
   ]
  },
  {
   "cell_type": "markdown",
   "id": "e5a166c4",
   "metadata": {},
   "source": [
    "## Part 2: Time-Series Clustering with SLM-Enhanced Insights \n",
    "- Example using DTW and Euclidean Distance \n",
    "\n",
    "- Dependecies:\n",
    "\n",
    "```bash\n",
    "pip install tslearn\n",
    "pip install h5py\n",
    "```"
   ]
  },
  {
   "cell_type": "code",
   "execution_count": 8,
   "id": "da596e05",
   "metadata": {},
   "outputs": [
    {
     "name": "stdout",
     "output_type": "stream",
     "text": [
      "[[-1.1  0.2  1.3 -0.9  0.5  0.6 -0.4  0. ]\n",
      " [-1.2  0.3  1.2 -1.   0.4  0.7 -0.3  0.1]\n",
      " [ 0.9  0.8 -1.  -1.1  1.1  0.9 -0.7 -0.2]]\n"
     ]
    }
   ],
   "source": [
    "from tslearn.clustering import TimeSeriesKMeans \n",
    "from tslearn.metrics import dtw \n",
    "import warnings\n",
    "\n",
    "# clear warnings from tslearn\n",
    "warnings.filterwarnings(\"ignore\")\n",
    "\n",
    "# Toy dataset with 3 series \n",
    "series = np.array([ \n",
    "[-1.1, 0.2, 1.3, -0.9, 0.5, 0.6, -0.4, 0.0], \n",
    "[-1.2, 0.3, 1.2, -1.0, 0.4, 0.7, -0.3, 0.1], \n",
    "[0.9, 0.8, -1.0, -1.1, 1.1, 0.9, -0.7, -0.2] \n",
    "])\n",
    "\n",
    "print(series)"
   ]
  },
  {
   "cell_type": "code",
   "execution_count": 9,
   "id": "c5a116d1",
   "metadata": {},
   "outputs": [
    {
     "name": "stdout",
     "output_type": "stream",
     "text": [
      "Cluster labels (DTW): [0 0 1]\n"
     ]
    }
   ],
   "source": [
    "# Using DTW \n",
    "model = TimeSeriesKMeans(n_clusters=2, metric=\"dtw\", random_state=0) \n",
    "labels = model.fit_predict(series) \n",
    "print(\"Cluster labels (DTW):\", labels)"
   ]
  },
  {
   "cell_type": "markdown",
   "id": "4eeeb649",
   "metadata": {},
   "source": [
    "## Part 3: Using SLM (Gemma 3) for Pattern Annotation \n",
    "- SLMs aren’t used directly for clustering, but can annotate or describe patterns."
   ]
  },
  {
   "cell_type": "code",
   "execution_count": 11,
   "id": "1b183901",
   "metadata": {},
   "outputs": [],
   "source": [
    "# configure api\n",
    "from dotenv import load_dotenv\n",
    "import os\n",
    "\n",
    "load_dotenv()\n",
    "gemini_api_key = os.getenv(\"GEMINI_API_KEY\")"
   ]
  },
  {
   "cell_type": "code",
   "execution_count": 12,
   "id": "21e8f49d",
   "metadata": {},
   "outputs": [],
   "source": [
    "from google import genai\n",
    "\n",
    "client = genai.Client(api_key=gemini_api_key)\n",
    "\n",
    "model = \"gemma-3-27b-it\""
   ]
  },
  {
   "cell_type": "code",
   "execution_count": 13,
   "id": "bd424b6a",
   "metadata": {},
   "outputs": [],
   "source": [
    "sax_rep = ['a', 'b', 'c', 'a']\n",
    "\n",
    "prompt = ( \n",
    "f\"The SAX pattern 'abca' was extracted from a normalized time-series.\\n\" \n",
    "f\"What trend does this pattern suggest? Provide a short explanation for what kind of behavior or change this could represent in time-series data.\" \n",
    ")"
   ]
  },
  {
   "cell_type": "code",
   "execution_count": 15,
   "id": "243a6513",
   "metadata": {},
   "outputs": [
    {
     "data": {
      "text/markdown": [
       "The SAX pattern 'abca' suggests a **rise, fall, rise, then fall** trend. More specifically, it indicates a **wave-like or oscillatory behavior with a slight upward drift**.\n",
       "\n",
       "Here's a breakdown:\n",
       "\n",
       "* **a:** Represents a relatively low value (due to normalization).\n",
       "* **b:** Represents a value higher than 'a' - an increase.\n",
       "* **c:** Represents a value higher than 'b' - a further increase.\n",
       "* **a:** Represents a value lower than 'c' - a decrease.\n",
       "\n",
       "Therefore, the pattern shows an initial increase (a->b->c), followed by a decrease (c->a).  The repetition of this suggests a cyclical pattern.  If the 'a' values are consistently slightly higher than the previous 'a' value, it implies a slow upward trend *within* the oscillations.\n",
       "\n",
       "**Possible real-world representations:**\n",
       "\n",
       "* **Seasonal data with growth:**  Like sales that peak each year but show overall growth over time.\n",
       "* **Fluctuating sensor readings with a bias:** A temperature sensor that oscillates around a slowly increasing average temperature.\n",
       "* **Heart rate variability:**  A heart rate that speeds up and slows down, potentially indicating fitness or stress levels.\n",
       "\n",
       "\n",
       "\n"
      ],
      "text/plain": [
       "<IPython.core.display.Markdown object>"
      ]
     },
     "metadata": {},
     "output_type": "display_data"
    }
   ],
   "source": [
    "from IPython.display import display, Markdown\n",
    "\n",
    "response = client.models.generate_content(model=model, contents=prompt)\n",
    "display(Markdown(response.text))"
   ]
  }
 ],
 "metadata": {
  "kernelspec": {
   "display_name": "Python 3",
   "language": "python",
   "name": "python3"
  },
  "language_info": {
   "codemirror_mode": {
    "name": "ipython",
    "version": 3
   },
   "file_extension": ".py",
   "mimetype": "text/x-python",
   "name": "python",
   "nbconvert_exporter": "python",
   "pygments_lexer": "ipython3",
   "version": "3.12.7"
  }
 },
 "nbformat": 4,
 "nbformat_minor": 5
}
