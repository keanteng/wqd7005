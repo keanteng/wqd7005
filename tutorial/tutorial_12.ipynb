{
 "cells": [
  {
   "cell_type": "code",
   "execution_count": 1,
   "id": "41dfac29",
   "metadata": {},
   "outputs": [],
   "source": [
    "import numpy as np\n",
    "import matplotlib.pyplot as plt\n",
    "from sklearn.cluster import DBSCAN\n",
    "from sklearn.neighbors import NearestNeighbors\n",
    "import pandas as pd\n",
    "\n",
    "# Define the dataset\n",
    "points = {\n",
    "    'A': (1, 2),\n",
    "    'B': (2, 2), \n",
    "    'C': (2, 3),\n",
    "    'D': (8, 8),\n",
    "    'E': (8, 9),\n",
    "    'F': (25, 25)\n",
    "}\n",
    "\n",
    "# Parameters\n",
    "epsilon = 2\n",
    "min_pts = 2"
   ]
  },
  {
   "cell_type": "code",
   "execution_count": 2,
   "id": "59fae36d",
   "metadata": {},
   "outputs": [
    {
     "name": "stdout",
     "output_type": "stream",
     "text": [
      "DBSCAN Algorithm Step-by-Step\n",
      "========================================\n",
      "Parameters: ε = 2, MinPts = 2\n",
      "Points: {'A': (1, 2), 'B': (2, 2), 'C': (2, 3), 'D': (8, 8), 'E': (8, 9), 'F': (25, 25)}\n",
      "\n"
     ]
    }
   ],
   "source": [
    "# Convert to array for easier processing\n",
    "point_names = list(points.keys())\n",
    "coordinates = np.array(list(points.values()))\n",
    "\n",
    "print(\"DBSCAN Algorithm Step-by-Step\")\n",
    "print(\"=\" * 40)\n",
    "print(f\"Parameters: ε = {epsilon}, MinPts = {min_pts}\")\n",
    "print(f\"Points: {points}\")\n",
    "print()"
   ]
  },
  {
   "cell_type": "code",
   "execution_count": 3,
   "id": "381e1f70",
   "metadata": {},
   "outputs": [
    {
     "name": "stdout",
     "output_type": "stream",
     "text": [
      "Step 1: Distance Matrix\n",
      "--------------------\n",
      "       A      B      C      D      E      F\n",
      "A   0.00   1.00   1.41   9.22   9.90  33.24\n",
      "B   1.00   0.00   1.00   8.49   9.22  32.53\n",
      "C   1.41   1.00   0.00   7.81   8.49  31.83\n",
      "D   9.22   8.49   7.81   0.00   1.00  24.04\n",
      "E   9.90   9.22   8.49   1.00   0.00  23.35\n",
      "F  33.24  32.53  31.83  24.04  23.35   0.00\n",
      "\n"
     ]
    }
   ],
   "source": [
    "# Step 1: Calculate distance matrix\n",
    "def euclidean_distance(p1, p2):\n",
    "    return np.sqrt((p1[0] - p2[0])**2 + (p1[1] - p2[1])**2)\n",
    "\n",
    "print(\"Step 1: Distance Matrix\")\n",
    "print(\"-\" * 20)\n",
    "distance_matrix = np.zeros((len(coordinates), len(coordinates)))\n",
    "\n",
    "for i in range(len(coordinates)):\n",
    "    for j in range(len(coordinates)):\n",
    "        if i != j:\n",
    "            distance_matrix[i][j] = euclidean_distance(coordinates[i], coordinates[j])\n",
    "\n",
    "# Display distance matrix\n",
    "df_distances = pd.DataFrame(distance_matrix, \n",
    "                           index=point_names, \n",
    "                           columns=point_names)\n",
    "print(df_distances.round(2))\n",
    "print()"
   ]
  },
  {
   "cell_type": "code",
   "execution_count": 4,
   "id": "0ae3e583",
   "metadata": {},
   "outputs": [
    {
     "name": "stdout",
     "output_type": "stream",
     "text": [
      "Step 2: Find ε-neighbors for each point\n",
      "----------------------------------------\n",
      "Point A: neighbors = ['B', 'C'] (count: 2)\n",
      "Point B: neighbors = ['A', 'C'] (count: 2)\n",
      "Point C: neighbors = ['A', 'B'] (count: 2)\n",
      "Point D: neighbors = ['E'] (count: 1)\n",
      "Point E: neighbors = ['D'] (count: 1)\n",
      "Point F: neighbors = [] (count: 0)\n",
      "\n"
     ]
    }
   ],
   "source": [
    "# Step 2: Find neighbors within epsilon for each point\n",
    "print(\"Step 2: Find ε-neighbors for each point\")\n",
    "print(\"-\" * 40)\n",
    "neighbors = {}\n",
    "for i, name in enumerate(point_names):\n",
    "    neighbors[name] = []\n",
    "    for j, other_name in enumerate(point_names):\n",
    "        if i != j and distance_matrix[i][j] <= epsilon:\n",
    "            neighbors[name].append(other_name)\n",
    "    print(f\"Point {name}: neighbors = {neighbors[name]} (count: {len(neighbors[name])})\")\n",
    "print()"
   ]
  },
  {
   "cell_type": "code",
   "execution_count": 5,
   "id": "757badaa",
   "metadata": {},
   "outputs": [
    {
     "name": "stdout",
     "output_type": "stream",
     "text": [
      "Step 3: Classify points\n",
      "-------------------------\n",
      "Point A: CORE (has 2 neighbors ≥ 2)\n",
      "Point B: CORE (has 2 neighbors ≥ 2)\n",
      "Point C: CORE (has 2 neighbors ≥ 2)\n",
      "Point D: POTENTIAL NOISE (has 1 neighbors < 2)\n",
      "Point E: POTENTIAL NOISE (has 1 neighbors < 2)\n",
      "Point F: POTENTIAL NOISE (has 0 neighbors < 2)\n",
      "\n"
     ]
    }
   ],
   "source": [
    "# Step 3: Classify points as core, border, or noise\n",
    "print(\"Step 3: Classify points\")\n",
    "print(\"-\" * 25)\n",
    "core_points = []\n",
    "border_points = []\n",
    "noise_points = []\n",
    "\n",
    "for name in point_names:\n",
    "    neighbor_count = len(neighbors[name])\n",
    "    if neighbor_count >= min_pts:\n",
    "        core_points.append(name)\n",
    "        print(f\"Point {name}: CORE (has {neighbor_count} neighbors ≥ {min_pts})\")\n",
    "    else:\n",
    "        # Check if it's a neighbor of any core point\n",
    "        is_border = False\n",
    "        for core in core_points:\n",
    "            if name in neighbors.get(core, []):\n",
    "                is_border = True\n",
    "                break\n",
    "        \n",
    "        if is_border:\n",
    "            border_points.append(name)\n",
    "            print(f\"Point {name}: BORDER (neighbor of core point)\")\n",
    "        else:\n",
    "            # We'll determine this after finding all core points\n",
    "            print(f\"Point {name}: POTENTIAL NOISE (has {neighbor_count} neighbors < {min_pts})\")\n",
    "\n",
    "print()"
   ]
  },
  {
   "cell_type": "code",
   "execution_count": 6,
   "id": "32d64af2",
   "metadata": {},
   "outputs": [
    {
     "name": "stdout",
     "output_type": "stream",
     "text": [
      "Step 4: Form clusters\n",
      "--------------------\n",
      "Starting cluster 0 from core point A\n",
      "\n",
      "Final Classification:\n",
      "--------------------\n",
      "Cluster 0: ['A', 'B', 'C']\n",
      "Noise points: ['D', 'E', 'F']\n"
     ]
    }
   ],
   "source": [
    "# Step 4: Manual DBSCAN clustering\n",
    "print(\"Step 4: Form clusters\")\n",
    "print(\"-\" * 20)\n",
    "\n",
    "# Initialize clusters\n",
    "clusters = {}\n",
    "cluster_id = 0\n",
    "visited = set()\n",
    "point_to_cluster = {}\n",
    "\n",
    "def dfs_cluster(point, cluster_id, visited, point_to_cluster):\n",
    "    \"\"\"Depth-First Search to form clusters\"\"\"\n",
    "    if point in visited:\n",
    "        return\n",
    "    \n",
    "    visited.add(point)\n",
    "    point_to_cluster[point] = cluster_id\n",
    "    \n",
    "    # If it's a core point, visit all its unvisited neighbors\n",
    "    if point in core_points:\n",
    "        for neighbor in neighbors[point]:\n",
    "            if neighbor not in visited:\n",
    "                dfs_cluster(neighbor, cluster_id, visited, point_to_cluster)\n",
    "\n",
    "# Process each core point\n",
    "for core_point in core_points:\n",
    "    if core_point not in visited:\n",
    "        print(f\"Starting cluster {cluster_id} from core point {core_point}\")\n",
    "        dfs_cluster(core_point, cluster_id, visited, point_to_cluster)\n",
    "        cluster_id += 1\n",
    "\n",
    "# Classify remaining points as noise\n",
    "final_noise_points = []\n",
    "for point in point_names:\n",
    "    if point not in point_to_cluster:\n",
    "        final_noise_points.append(point)\n",
    "        point_to_cluster[point] = -1  # -1 indicates noise\n",
    "\n",
    "print()\n",
    "print(\"Final Classification:\")\n",
    "print(\"-\" * 20)\n",
    "for cluster_num in range(cluster_id):\n",
    "    cluster_points = [p for p, c in point_to_cluster.items() if c == cluster_num]\n",
    "    print(f\"Cluster {cluster_num}: {cluster_points}\")\n",
    "\n",
    "if final_noise_points:\n",
    "    print(f\"Noise points: {final_noise_points}\")\n",
    "else:\n",
    "    print(\"Noise points: None\")"
   ]
  },
  {
   "cell_type": "code",
   "execution_count": 7,
   "id": "f34f3879",
   "metadata": {},
   "outputs": [
    {
     "name": "stdout",
     "output_type": "stream",
     "text": [
      "\n",
      "Step 5: Verification with sklearn DBSCAN\n",
      "----------------------------------------\n",
      "sklearn results:\n",
      "Point A: Cluster 0\n",
      "Point B: Cluster 0\n",
      "Point C: Cluster 0\n",
      "Point D: Cluster 1\n",
      "Point E: Cluster 1\n",
      "Point F: Noise\n"
     ]
    }
   ],
   "source": [
    "# Step 5: Verify with sklearn DBSCAN\n",
    "print()\n",
    "print(\"Step 5: Verification with sklearn DBSCAN\")\n",
    "print(\"-\" * 40)\n",
    "dbscan = DBSCAN(eps=epsilon, min_samples=min_pts)\n",
    "sklearn_labels = dbscan.fit_predict(coordinates)\n",
    "\n",
    "print(\"sklearn results:\")\n",
    "for i, (name, label) in enumerate(zip(point_names, sklearn_labels)):\n",
    "    if label == -1:\n",
    "        print(f\"Point {name}: Noise\")\n",
    "    else:\n",
    "        print(f\"Point {name}: Cluster {label}\")"
   ]
  },
  {
   "cell_type": "code",
   "execution_count": 8,
   "id": "b5c4f39f",
   "metadata": {},
   "outputs": [
    {
     "data": {
      "image/png": "[encoded data removed]",
      "text/plain": [
       "<Figure size 1200x500 with 1 Axes>"
      ]
     },
     "metadata": {},
     "output_type": "display_data"
    }
   ],
   "source": [
    "# Visualization\n",
    "plt.figure(figsize=(12, 5))\n",
    "\n",
    "# Plot 1: Manual DBSCAN result\n",
    "plt.subplot(1, 2, 1)\n",
    "colors = ['red', 'blue', 'green', 'orange', 'purple', 'brown']\n",
    "for i, (name, coord) in enumerate(zip(point_names, coordinates)):\n",
    "    cluster = point_to_cluster[name]\n",
    "    if cluster == -1:\n",
    "        plt.scatter(coord[0], coord[1], c='black', marker='x', s=100, label='Noise' if i == 0 else \"\")\n",
    "    else:\n",
    "        plt.scatter(coord[0], coord[1], c=colors[cluster % len(colors)], s=100, \n",
    "                   label=f'Cluster {cluster}' if cluster not in [point_to_cluster[point_names[j]] for j in range(i)] else \"\")\n",
    "    plt.annotate(name, (coord[0], coord[1]), xytext=(5, 5), textcoords='offset points')\n",
    "\n",
    "plt.title('Manual DBSCAN Result')\n",
    "plt.xlabel('X')\n",
    "plt.ylabel('Y')\n",
    "plt.legend()\n",
    "plt.grid(True, alpha=0.3)"
   ]
  },
  {
   "cell_type": "code",
   "execution_count": 9,
   "id": "e7592e4a",
   "metadata": {},
   "outputs": [
    {
     "data": {
      "image/png": "[encoded data removed]",
      "text/plain": [
       "<Figure size 640x480 with 1 Axes>"
      ]
     },
     "metadata": {},
     "output_type": "display_data"
    },
    {
     "name": "stdout",
     "output_type": "stream",
     "text": [
      "\n",
      "Summary:\n",
      "----------\n",
      "Core points: ['A', 'B', 'C']\n",
      "Total clusters found: 1\n",
      "Noise points: ['D', 'E', 'F']\n"
     ]
    }
   ],
   "source": [
    "# Plot 2: sklearn DBSCAN result\n",
    "plt.subplot(1, 2, 2)\n",
    "for i, (name, coord, label) in enumerate(zip(point_names, coordinates, sklearn_labels)):\n",
    "    if label == -1:\n",
    "        plt.scatter(coord[0], coord[1], c='black', marker='x', s=100)\n",
    "    else:\n",
    "        plt.scatter(coord[0], coord[1], c=colors[label % len(colors)], s=100)\n",
    "    plt.annotate(name, (coord[0], coord[1]), xytext=(5, 5), textcoords='offset points')\n",
    "\n",
    "plt.title('sklearn DBSCAN Result')\n",
    "plt.xlabel('X')\n",
    "plt.ylabel('Y')\n",
    "plt.grid(True, alpha=0.3)\n",
    "\n",
    "plt.tight_layout()\n",
    "plt.show()\n",
    "\n",
    "print()\n",
    "print(\"Summary:\")\n",
    "print(\"-\" * 10)\n",
    "print(f\"Core points: {core_points}\")\n",
    "print(f\"Total clusters found: {cluster_id}\")\n",
    "print(f\"Noise points: {final_noise_points}\")"
   ]
  }
 ],
 "metadata": {
  "kernelspec": {
   "display_name": "Python 3",
   "language": "python",
   "name": "python3"
  },
  "language_info": {
   "codemirror_mode": {
    "name": "ipython",
    "version": 3
   },
   "file_extension": ".py",
   "mimetype": "text/x-python",
   "name": "python",
   "nbconvert_exporter": "python",
   "pygments_lexer": "ipython3",
   "version": "3.12.7"
  }
 },
 "nbformat": 4,
 "nbformat_minor": 5
}
